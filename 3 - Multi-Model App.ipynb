{
 "cells": [
  {
   "cell_type": "markdown",
   "id": "10607bc0",
   "metadata": {},
   "source": [
    "# Multi-Modal App"
   ]
  },
  {
   "cell_type": "code",
   "execution_count": null,
   "id": "bb48db4a",
   "metadata": {},
   "outputs": [],
   "source": [
    "# pip install huggingface_hub\n"
   ]
  },
  {
   "cell_type": "code",
   "execution_count": 1,
   "id": "baabfa68",
   "metadata": {},
   "outputs": [],
   "source": [
    "import openai\n",
    "import os \n",
    "from langchain.chat_models import AzureChatOpenAI\n",
    "from langchain import HuggingFaceHub\n",
    "from getpass import getpass\n",
    "from langchain.schema import AIMessage, HumanMessage,SystemMessage\n",
    "from langchain import PromptTemplate, LLMChain\n"
   ]
  },
  {
   "cell_type": "code",
   "execution_count": 2,
   "id": "3838b552",
   "metadata": {},
   "outputs": [],
   "source": [
    "from dotenv import load_dotenv\n",
    "\n",
    "load_dotenv()\n",
    "\n",
    "openai.api_key = os.getenv('OPENAI_API_KEY')\n",
    "openai.api_base= os.getenv('OPENAI_API_BASE')\n",
    "openai.api_type= \"azure\"\n",
    "openai.api_version = os.getenv('OPENAI_API_VERSION')\n",
    "deployment:str=os.getenv('CHATGPT_MODEL')\n",
    "huggingfacetoken=os.getenv(\"HUGGINGFACEHUB_API_TOKEN\")\n"
   ]
  },
  {
   "cell_type": "code",
   "execution_count": 3,
   "id": "ccca56c1",
   "metadata": {},
   "outputs": [],
   "source": [
    "repo_id = \"google/flan-t5-xxl\" \n"
   ]
  },
  {
   "cell_type": "code",
   "execution_count": 4,
   "id": "24c8feef",
   "metadata": {},
   "outputs": [],
   "source": [
    "openai_llm = AzureChatOpenAI(\n",
    "    deployment_name=deployment,\n",
    "    model_name=deployment\n",
    "    )\n"
   ]
  },
  {
   "cell_type": "code",
   "execution_count": 5,
   "id": "8973408c",
   "metadata": {},
   "outputs": [
    {
     "name": "stderr",
     "output_type": "stream",
     "text": [
      "/Users/jorgeluna/work/learning/langchain/LangChain-Course/venv-langchain-course/lib/python3.11/site-packages/tqdm/auto.py:21: TqdmWarning: IProgress not found. Please update jupyter and ipywidgets. See https://ipywidgets.readthedocs.io/en/stable/user_install.html\n",
      "  from .autonotebook import tqdm as notebook_tqdm\n",
      "/Users/jorgeluna/work/learning/langchain/LangChain-Course/venv-langchain-course/lib/python3.11/site-packages/huggingface_hub/utils/_deprecation.py:127: FutureWarning: '__init__' (from 'huggingface_hub.inference_api') is deprecated and will be removed from version '0.19.0'. `InferenceApi` client is deprecated in favor of the more feature-complete `InferenceClient`. Check out this guide to learn how to convert your script to use it: https://huggingface.co/docs/huggingface_hub/guides/inference#legacy-inferenceapi-client.\n",
      "  warnings.warn(warning_message, FutureWarning)\n"
     ]
    }
   ],
   "source": [
    "flan_llm = HuggingFaceHub(\n",
    "    repo_id=repo_id, model_kwargs={\"max_length\": 100}\n",
    ")  \n"
   ]
  },
  {
   "cell_type": "code",
   "execution_count": 6,
   "id": "b756b054",
   "metadata": {},
   "outputs": [],
   "source": [
    "def openai_process(question):\n",
    "    reply = openai_llm([\n",
    "        SystemMessage(content='You are a helpful assistant.'),\n",
    "        HumanMessage(content=question)\n",
    "    ])\n",
    "    \n",
    "    return reply.content\n"
   ]
  },
  {
   "cell_type": "code",
   "execution_count": 7,
   "id": "4833371e",
   "metadata": {},
   "outputs": [],
   "source": [
    "def flan_process(question):\n",
    "    template = \"{question}\"\n",
    "    prompt = PromptTemplate(template=template, input_variables=[\"question\"])\n",
    "    llm_chain = LLMChain(prompt=prompt, llm=flan_llm)\n",
    "\n",
    "    return llm_chain.run(question)\n"
   ]
  },
  {
   "cell_type": "code",
   "execution_count": 8,
   "id": "a660d656",
   "metadata": {},
   "outputs": [
    {
     "name": "stdout",
     "output_type": "stream",
     "text": [
      "OpenAI reply: The first man on the moon was Neil Armstrong.\n",
      "Flan reply: john glenn\n"
     ]
    }
   ],
   "source": [
    "question = input(\"Please enter a prompt: \")\n",
    "openai_reply = openai_process(question)\n",
    "print(f\"OpenAI reply: {openai_reply}\")\n",
    "flan_reply = flan_process(question)\n",
    "print(f\"Flan reply: {flan_reply}\")\n"
   ]
  },
  {
   "cell_type": "code",
   "execution_count": null,
   "id": "ad0679e3",
   "metadata": {},
   "outputs": [],
   "source": []
  }
 ],
 "metadata": {
  "kernelspec": {
   "display_name": "Python 3 (ipykernel)",
   "language": "python",
   "name": "python3"
  },
  "language_info": {
   "codemirror_mode": {
    "name": "ipython",
    "version": 3
   },
   "file_extension": ".py",
   "mimetype": "text/x-python",
   "name": "python",
   "nbconvert_exporter": "python",
   "pygments_lexer": "ipython3",
   "version": "3.11.6"
  }
 },
 "nbformat": 4,
 "nbformat_minor": 5
}
