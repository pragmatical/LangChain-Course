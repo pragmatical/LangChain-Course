{
 "cells": [
  {
   "cell_type": "markdown",
   "id": "b502105e",
   "metadata": {},
   "source": [
    "# First LangChain Program"
   ]
  },
  {
   "cell_type": "code",
   "execution_count": 2,
   "id": "5bf38016",
   "metadata": {},
   "outputs": [
    {
     "data": {
      "text/plain": [
       "True"
      ]
     },
     "execution_count": 2,
     "metadata": {},
     "output_type": "execute_result"
    }
   ],
   "source": [
    "import openai\n",
    "import os \n",
    "from dotenv import load_dotenv\n",
    "\n",
    "load_dotenv()\n"
   ]
  },
  {
   "cell_type": "code",
   "execution_count": 3,
   "id": "9d9f9bea",
   "metadata": {},
   "outputs": [],
   "source": [
    "openai.api_key = os.getenv('OPENAI_API_KEY')\n",
    "openai.api_base= os.getenv('OPENAI_API_BASE')\n",
    "openai.api_type= \"azure\"\n",
    "openai.api_version = os.getenv('OPENAI_API_VERSION')\n",
    "deployment:str=os.getenv('CHATGPT_MODEL')\n"
   ]
  },
  {
   "cell_type": "code",
   "execution_count": 4,
   "id": "d966d047",
   "metadata": {},
   "outputs": [],
   "source": [
    "reply = openai.ChatCompletion.create(\n",
    "  engine=deployment,\n",
    "  max_tokens =100,\n",
    "  messages=[\n",
    "        {\n",
    "            \"role\": \"system\",\n",
    "            \"content\": \"You are a helpful assistant.\"\n",
    "        },\n",
    "        {\n",
    "            \"role\": \"user\",\n",
    "            \"content\": \"What is a large language model?\",\n",
    "        }\n",
    "    ]\n",
    ")\n"
   ]
  },
  {
   "cell_type": "code",
   "execution_count": 5,
   "id": "240945e3",
   "metadata": {},
   "outputs": [
    {
     "data": {
      "text/plain": [
       "<OpenAIObject chat.completion id=chatcmpl-8BmRrCq9iruLEuI18fmovAtelyyj2 at 0x11b6ecc50> JSON: {\n",
       "  \"id\": \"chatcmpl-8BmRrCq9iruLEuI18fmovAtelyyj2\",\n",
       "  \"object\": \"chat.completion\",\n",
       "  \"created\": 1697818535,\n",
       "  \"model\": \"gpt-35-turbo\",\n",
       "  \"prompt_filter_results\": [\n",
       "    {\n",
       "      \"prompt_index\": 0,\n",
       "      \"content_filter_results\": {\n",
       "        \"hate\": {\n",
       "          \"filtered\": false,\n",
       "          \"severity\": \"safe\"\n",
       "        },\n",
       "        \"self_harm\": {\n",
       "          \"filtered\": false,\n",
       "          \"severity\": \"safe\"\n",
       "        },\n",
       "        \"sexual\": {\n",
       "          \"filtered\": false,\n",
       "          \"severity\": \"safe\"\n",
       "        },\n",
       "        \"violence\": {\n",
       "          \"filtered\": false,\n",
       "          \"severity\": \"safe\"\n",
       "        }\n",
       "      }\n",
       "    }\n",
       "  ],\n",
       "  \"choices\": [\n",
       "    {\n",
       "      \"index\": 0,\n",
       "      \"finish_reason\": \"length\",\n",
       "      \"message\": {\n",
       "        \"role\": \"assistant\",\n",
       "        \"content\": \"A large language model (LLM) is an artificial intelligence system that can generate human-like language based on massive amounts of training data. Generally, a LLM is trained on a massive corpus of text data, such as Wikipedia articles or a large set of books, and uses this data to learn patterns in language and syntax. These models are capable of generating high-quality text that can be used in applications like chatbots, automated writing tools, and language translation systems. Some examples of large language models include\"\n",
       "      },\n",
       "      \"content_filter_results\": {\n",
       "        \"hate\": {\n",
       "          \"filtered\": false,\n",
       "          \"severity\": \"safe\"\n",
       "        },\n",
       "        \"self_harm\": {\n",
       "          \"filtered\": false,\n",
       "          \"severity\": \"safe\"\n",
       "        },\n",
       "        \"sexual\": {\n",
       "          \"filtered\": false,\n",
       "          \"severity\": \"safe\"\n",
       "        },\n",
       "        \"violence\": {\n",
       "          \"filtered\": false,\n",
       "          \"severity\": \"safe\"\n",
       "        }\n",
       "      }\n",
       "    }\n",
       "  ],\n",
       "  \"usage\": {\n",
       "    \"prompt_tokens\": 26,\n",
       "    \"completion_tokens\": 100,\n",
       "    \"total_tokens\": 126\n",
       "  }\n",
       "}"
      ]
     },
     "execution_count": 5,
     "metadata": {},
     "output_type": "execute_result"
    }
   ],
   "source": [
    "reply\n"
   ]
  },
  {
   "cell_type": "code",
   "execution_count": 6,
   "id": "7f7b9d01",
   "metadata": {},
   "outputs": [
    {
     "name": "stdout",
     "output_type": "stream",
     "text": [
      "A large language model (LLM) is an artificial intelligence system that can generate human-like language based on massive amounts of training data. Generally, a LLM is trained on a massive corpus of text data, such as Wikipedia articles or a large set of books, and uses this data to learn patterns in language and syntax. These models are capable of generating high-quality text that can be used in applications like chatbots, automated writing tools, and language translation systems. Some examples of large language models include\n"
     ]
    }
   ],
   "source": [
    "print(reply['choices'][0]['message']['content'])\n"
   ]
  },
  {
   "cell_type": "code",
   "execution_count": 9,
   "id": "de342a46",
   "metadata": {},
   "outputs": [],
   "source": [
    "from langchain.chat_models import AzureChatOpenAI\n"
   ]
  },
  {
   "cell_type": "code",
   "execution_count": 10,
   "id": "f0ad4c77",
   "metadata": {},
   "outputs": [],
   "source": [
    "llm = AzureChatOpenAI(\n",
    "    deployment_name=deployment,\n",
    "    model_name=deployment\n",
    "    )\n"
   ]
  },
  {
   "cell_type": "code",
   "execution_count": 11,
   "id": "7bfa5d77",
   "metadata": {},
   "outputs": [],
   "source": [
    "from langchain.schema import AIMessage, HumanMessage,SystemMessage\n"
   ]
  },
  {
   "cell_type": "code",
   "execution_count": 12,
   "id": "494f70fd",
   "metadata": {},
   "outputs": [],
   "source": [
    "reply = llm([\n",
    "SystemMessage(content='You are a helpful assistant.'),\n",
    "HumanMessage(content='what is a large language model')])\n"
   ]
  },
  {
   "cell_type": "code",
   "execution_count": 13,
   "id": "e6e6092d",
   "metadata": {},
   "outputs": [
    {
     "data": {
      "text/plain": [
       "AIMessage(content=\"A large language model is a type of artificial intelligence model that is trained on vast amounts of text data to understand the complexities of language. These models are capable of generating human-like responses to text-based inputs, and are used in a variety of applications such as chatbots, language translation, and content creation. Examples of large language models include GPT-3, BERT, and OpenAI's language models. These models have been trained on massive datasets and can generate highly accurate responses to various language-related tasks.\")"
      ]
     },
     "execution_count": 13,
     "metadata": {},
     "output_type": "execute_result"
    }
   ],
   "source": [
    "reply\n"
   ]
  },
  {
   "cell_type": "code",
   "execution_count": 14,
   "id": "75863e83",
   "metadata": {},
   "outputs": [
    {
     "name": "stdout",
     "output_type": "stream",
     "text": [
      "A large language model is a type of artificial intelligence model that is trained on vast amounts of text data to understand the complexities of language. These models are capable of generating human-like responses to text-based inputs, and are used in a variety of applications such as chatbots, language translation, and content creation. Examples of large language models include GPT-3, BERT, and OpenAI's language models. These models have been trained on massive datasets and can generate highly accurate responses to various language-related tasks.\n"
     ]
    }
   ],
   "source": [
    "print(reply.content)\n"
   ]
  },
  {
   "cell_type": "code",
   "execution_count": 15,
   "id": "f2e94798",
   "metadata": {},
   "outputs": [],
   "source": [
    "reply = llm.generate([\n",
    "[SystemMessage(content='You are a helpful assistant.'),\n",
    "HumanMessage(content='what is a large language model')],\n",
    "[SystemMessage(content='You are an AI expert.'),\n",
    "HumanMessage(content='what is generative ai?')]\n",
    "])\n"
   ]
  },
  {
   "cell_type": "code",
   "execution_count": 16,
   "id": "300817ff",
   "metadata": {},
   "outputs": [
    {
     "data": {
      "text/plain": [
       "[[ChatGeneration(text='A large language model is a type of artificial intelligence model that can generate human-like language by learning patterns and structures from massive amounts of text data. These models use deep learning techniques, such as neural networks, to process and analyze vast amounts of text data in order to generate coherent, grammatically correct language. Large language models are often used in natural language processing tasks such as text generation, text classification, and question-answering systems. They are also used in various applications such as chatbots, language translation, and speech recognition. Some of the most well-known examples of large language models include GPT-3, BERT, and Transformer.', generation_info={'finish_reason': 'stop'}, message=AIMessage(content='A large language model is a type of artificial intelligence model that can generate human-like language by learning patterns and structures from massive amounts of text data. These models use deep learning techniques, such as neural networks, to process and analyze vast amounts of text data in order to generate coherent, grammatically correct language. Large language models are often used in natural language processing tasks such as text generation, text classification, and question-answering systems. They are also used in various applications such as chatbots, language translation, and speech recognition. Some of the most well-known examples of large language models include GPT-3, BERT, and Transformer.'))],\n",
       " [ChatGeneration(text='Generative AI refers to the use of artificial intelligence algorithms and models to generate new data or content that resembles existing data in a particular domain. This can include generating images, videos, music, text, and other types of data. Generative AI typically involves training a model on a large dataset and then using that model to generate new data based on patterns and relationships it has learned from the training data. Some examples of generative AI include image and video synthesis, natural language generation, and music composition. Generative AI has a wide range of potential applications, from creating realistic virtual environments to generating personalized content for marketing and advertising.', generation_info={'finish_reason': 'stop'}, message=AIMessage(content='Generative AI refers to the use of artificial intelligence algorithms and models to generate new data or content that resembles existing data in a particular domain. This can include generating images, videos, music, text, and other types of data. Generative AI typically involves training a model on a large dataset and then using that model to generate new data based on patterns and relationships it has learned from the training data. Some examples of generative AI include image and video synthesis, natural language generation, and music composition. Generative AI has a wide range of potential applications, from creating realistic virtual environments to generating personalized content for marketing and advertising.'))]]"
      ]
     },
     "execution_count": 16,
     "metadata": {},
     "output_type": "execute_result"
    }
   ],
   "source": [
    "reply.generations\n"
   ]
  },
  {
   "cell_type": "code",
   "execution_count": 17,
   "id": "ed8394d8",
   "metadata": {},
   "outputs": [
    {
     "data": {
      "text/plain": [
       "[ChatGeneration(text='Generative AI refers to the use of artificial intelligence algorithms and models to generate new data or content that resembles existing data in a particular domain. This can include generating images, videos, music, text, and other types of data. Generative AI typically involves training a model on a large dataset and then using that model to generate new data based on patterns and relationships it has learned from the training data. Some examples of generative AI include image and video synthesis, natural language generation, and music composition. Generative AI has a wide range of potential applications, from creating realistic virtual environments to generating personalized content for marketing and advertising.', generation_info={'finish_reason': 'stop'}, message=AIMessage(content='Generative AI refers to the use of artificial intelligence algorithms and models to generate new data or content that resembles existing data in a particular domain. This can include generating images, videos, music, text, and other types of data. Generative AI typically involves training a model on a large dataset and then using that model to generate new data based on patterns and relationships it has learned from the training data. Some examples of generative AI include image and video synthesis, natural language generation, and music composition. Generative AI has a wide range of potential applications, from creating realistic virtual environments to generating personalized content for marketing and advertising.'))]"
      ]
     },
     "execution_count": 17,
     "metadata": {},
     "output_type": "execute_result"
    }
   ],
   "source": [
    "reply.generations[1]\n"
   ]
  },
  {
   "cell_type": "code",
   "execution_count": 18,
   "id": "ceae5856",
   "metadata": {},
   "outputs": [
    {
     "data": {
      "text/plain": [
       "'Generative AI refers to the use of artificial intelligence algorithms and models to generate new data or content that resembles existing data in a particular domain. This can include generating images, videos, music, text, and other types of data. Generative AI typically involves training a model on a large dataset and then using that model to generate new data based on patterns and relationships it has learned from the training data. Some examples of generative AI include image and video synthesis, natural language generation, and music composition. Generative AI has a wide range of potential applications, from creating realistic virtual environments to generating personalized content for marketing and advertising.'"
      ]
     },
     "execution_count": 18,
     "metadata": {},
     "output_type": "execute_result"
    }
   ],
   "source": [
    "reply.generations[1][0].text\n"
   ]
  },
  {
   "cell_type": "code",
   "execution_count": 20,
   "id": "64f2fdb3",
   "metadata": {},
   "outputs": [],
   "source": [
    "reply = llm.generate([\n",
    "[SystemMessage(content='You are a helpful assistant.'),\n",
    "HumanMessage(content='what is generative ai')],\n",
    "[SystemMessage(content='You are a helpful assistant.'),\n",
    "HumanMessage(content='improve this definition')]\n",
    "])\n"
   ]
  },
  {
   "cell_type": "code",
   "execution_count": 21,
   "id": "fe840760",
   "metadata": {},
   "outputs": [
    {
     "data": {
      "text/plain": [
       "[[ChatGeneration(text='Generative AI refers to a type of artificial intelligence that is capable of generating new content or information from existing data. This can include anything from generating new text, images, or even music. Generative AI systems work by analyzing and learning patterns from large datasets, and then using this knowledge to create new content that is similar in style or content to the original data. This technology has a wide range of applications, including in areas such as creative arts, content creation, and even scientific research.', generation_info={'finish_reason': 'stop'}, message=AIMessage(content='Generative AI refers to a type of artificial intelligence that is capable of generating new content or information from existing data. This can include anything from generating new text, images, or even music. Generative AI systems work by analyzing and learning patterns from large datasets, and then using this knowledge to create new content that is similar in style or content to the original data. This technology has a wide range of applications, including in areas such as creative arts, content creation, and even scientific research.'))],\n",
       " [ChatGeneration(text='As an AI language model, I am programmed to assist users in generating human-like responses, providing relevant information, and completing tasks efficiently.', generation_info={'finish_reason': 'stop'}, message=AIMessage(content='As an AI language model, I am programmed to assist users in generating human-like responses, providing relevant information, and completing tasks efficiently.'))]]"
      ]
     },
     "execution_count": 21,
     "metadata": {},
     "output_type": "execute_result"
    }
   ],
   "source": [
    "reply.generations\n"
   ]
  },
  {
   "cell_type": "code",
   "execution_count": null,
   "id": "d4cbbf00",
   "metadata": {},
   "outputs": [],
   "source": []
  }
 ],
 "metadata": {
  "kernelspec": {
   "display_name": "Python 3 (ipykernel)",
   "language": "python",
   "name": "python3"
  },
  "language_info": {
   "codemirror_mode": {
    "name": "ipython",
    "version": 3
   },
   "file_extension": ".py",
   "mimetype": "text/x-python",
   "name": "python",
   "nbconvert_exporter": "python",
   "pygments_lexer": "ipython3",
   "version": "3.11.6"
  }
 },
 "nbformat": 4,
 "nbformat_minor": 5
}
