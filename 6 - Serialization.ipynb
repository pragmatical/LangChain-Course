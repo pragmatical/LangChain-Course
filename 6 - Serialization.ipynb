{
 "cells": [
  {
   "cell_type": "markdown",
   "id": "f8696527",
   "metadata": {},
   "source": [
    "# Serialization"
   ]
  },
  {
   "cell_type": "code",
   "execution_count": 2,
   "id": "c25639cd",
   "metadata": {},
   "outputs": [],
   "source": [
    "import openai\n",
    "import os \n",
    "from langchain import PromptTemplate\n"
   ]
  },
  {
   "cell_type": "code",
   "execution_count": 3,
   "id": "c5ef84d8",
   "metadata": {},
   "outputs": [],
   "source": [
    "template = \"Describe {topic}\"\n"
   ]
  },
  {
   "cell_type": "code",
   "execution_count": 4,
   "id": "c87f3ea5",
   "metadata": {},
   "outputs": [],
   "source": [
    "prompt = PromptTemplate(template=template,input_variables=[\"topic\"])\n"
   ]
  },
  {
   "cell_type": "code",
   "execution_count": 5,
   "id": "025fee92",
   "metadata": {},
   "outputs": [],
   "source": [
    "prompt.save(\"topic_template.json\")\n"
   ]
  },
  {
   "cell_type": "code",
   "execution_count": 6,
   "id": "40d160a7",
   "metadata": {},
   "outputs": [],
   "source": [
    "from langchain.prompts import load_prompt\n"
   ]
  },
  {
   "cell_type": "code",
   "execution_count": 7,
   "id": "000c8cb3",
   "metadata": {},
   "outputs": [],
   "source": [
    "prompt_file = load_prompt(\"topic_template.json\")\n"
   ]
  },
  {
   "cell_type": "code",
   "execution_count": 8,
   "id": "8342b381",
   "metadata": {},
   "outputs": [
    {
     "data": {
      "text/plain": [
       "PromptTemplate(input_variables=['topic'], template='Describe {topic}')"
      ]
     },
     "execution_count": 8,
     "metadata": {},
     "output_type": "execute_result"
    }
   ],
   "source": [
    "prompt_file\n"
   ]
  },
  {
   "cell_type": "code",
   "execution_count": null,
   "id": "90d58789",
   "metadata": {},
   "outputs": [],
   "source": []
  }
 ],
 "metadata": {
  "kernelspec": {
   "display_name": "Python 3 (ipykernel)",
   "language": "python",
   "name": "python3"
  },
  "language_info": {
   "codemirror_mode": {
    "name": "ipython",
    "version": 3
   },
   "file_extension": ".py",
   "mimetype": "text/x-python",
   "name": "python",
   "nbconvert_exporter": "python",
   "pygments_lexer": "ipython3",
   "version": "3.11.6"
  }
 },
 "nbformat": 4,
 "nbformat_minor": 5
}
