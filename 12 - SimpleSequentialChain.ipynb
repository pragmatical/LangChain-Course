{
 "cells": [
  {
   "cell_type": "code",
   "execution_count": 2,
   "id": "fe806ec8",
   "metadata": {},
   "outputs": [],
   "source": [
    "import openai\n",
    "import os \n",
    "from langchain.chat_models import AzureChatOpenAI\n",
    "from langchain.prompts.chat import ChatPromptTemplate, HumanMessagePromptTemplate\n",
    "from langchain.chains import LLMChain,SimpleSequentialChain\n",
    "from dotenv import load_dotenv\n",
    "\n",
    "load_dotenv()\n",
    "openai.api_key = os.getenv('OPENAI_API_KEY')\n",
    "openai.api_base= os.getenv('OPENAI_API_BASE')\n",
    "openai.api_type= \"azure\"\n",
    "openai.api_version = os.getenv('OPENAI_API_VERSION')\n",
    "deployment:str=os.getenv('CHATGPT_MODEL')\n",
    "\n",
    "llm = AzureChatOpenAI(\n",
    "    deployment_name=deployment,\n",
    "    model_name=deployment\n",
    "    )\n"
   ]
  },
  {
   "cell_type": "code",
   "execution_count": 3,
   "id": "013b4954",
   "metadata": {},
   "outputs": [
    {
     "name": "stdout",
     "output_type": "stream",
     "text": [
      "\n",
      "\n",
      "\u001b[1m> Entering new SimpleSequentialChain chain...\u001b[0m\n",
      "\u001b[36;1m\u001b[1;3m1. The Notebook\n",
      "2. A Walk to Remember\n",
      "3. The Fault in Our Stars\u001b[0m\n",
      "\u001b[33;1m\u001b[1;3m1. A romantic drama about a couple who fall deeply in love despite class differences and obstacles.\n",
      "2. A heartwarming story of two teenagers who find love and hope in the face of tragedy.\n",
      "3. A poignant tale of two teenagers with cancer who fall in love and navigate the ups and downs of their illness.\u001b[0m\n",
      "\n",
      "\u001b[1m> Finished chain.\u001b[0m\n"
     ]
    }
   ],
   "source": [
    "template_one = \"Provide three titles of movies about {topic}.\"\n",
    "\n",
    "prompt_one = ChatPromptTemplate.from_template(template_one)\n",
    "\n",
    "chain_one = LLMChain(llm=llm, prompt=prompt_one)\n",
    "\n",
    "template_two = \"Write a one sentence description for each movie in this {list}.\"\n",
    "\n",
    "prompt_two = ChatPromptTemplate.from_template(template_two)\n",
    "\n",
    "chain_two = LLMChain(llm=llm, prompt=prompt_two)\n",
    "\n",
    "final_chain = SimpleSequentialChain(chains=[chain_one,chain_two], verbose=True)\n",
    "\n",
    "result = final_chain.run('Romance')\n"
   ]
  },
  {
   "cell_type": "code",
   "execution_count": null,
   "id": "55fc0b7a",
   "metadata": {},
   "outputs": [],
   "source": []
  }
 ],
 "metadata": {
  "kernelspec": {
   "display_name": "Python 3 (ipykernel)",
   "language": "python",
   "name": "python3"
  },
  "language_info": {
   "codemirror_mode": {
    "name": "ipython",
    "version": 3
   },
   "file_extension": ".py",
   "mimetype": "text/x-python",
   "name": "python",
   "nbconvert_exporter": "python",
   "pygments_lexer": "ipython3",
   "version": "3.11.6"
  }
 },
 "nbformat": 4,
 "nbformat_minor": 5
}
