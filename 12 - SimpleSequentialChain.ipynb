{
 "cells": [
  {
   "cell_type": "code",
   "execution_count": 1,
   "id": "fe806ec8",
   "metadata": {},
   "outputs": [
    {
     "ename": "NameError",
     "evalue": "name 'deployment' is not defined",
     "output_type": "error",
     "traceback": [
      "\u001b[0;31m---------------------------------------------------------------------------\u001b[0m",
      "\u001b[0;31mNameError\u001b[0m                                 Traceback (most recent call last)",
      "\u001b[1;32m/Users/jorgeluna/work/learning/langchain/LangChain-Course/12 - SimpleSequentialChain.ipynb Cell 1\u001b[0m line \u001b[0;36m8\n\u001b[1;32m      <a href='vscode-notebook-cell:/Users/jorgeluna/work/learning/langchain/LangChain-Course/12%20-%20SimpleSequentialChain.ipynb#W0sZmlsZQ%3D%3D?line=3'>4</a>\u001b[0m \u001b[39mfrom\u001b[39;00m \u001b[39mlangchain\u001b[39;00m\u001b[39m.\u001b[39;00m\u001b[39mprompts\u001b[39;00m\u001b[39m.\u001b[39;00m\u001b[39mchat\u001b[39;00m \u001b[39mimport\u001b[39;00m ChatPromptTemplate, HumanMessagePromptTemplate\n\u001b[1;32m      <a href='vscode-notebook-cell:/Users/jorgeluna/work/learning/langchain/LangChain-Course/12%20-%20SimpleSequentialChain.ipynb#W0sZmlsZQ%3D%3D?line=4'>5</a>\u001b[0m \u001b[39mfrom\u001b[39;00m \u001b[39mlangchain\u001b[39;00m\u001b[39m.\u001b[39;00m\u001b[39mchains\u001b[39;00m \u001b[39mimport\u001b[39;00m LLMChain,SimpleSequentialChain\n\u001b[1;32m      <a href='vscode-notebook-cell:/Users/jorgeluna/work/learning/langchain/LangChain-Course/12%20-%20SimpleSequentialChain.ipynb#W0sZmlsZQ%3D%3D?line=6'>7</a>\u001b[0m llm \u001b[39m=\u001b[39m AzureChatOpenAI(\n\u001b[0;32m----> <a href='vscode-notebook-cell:/Users/jorgeluna/work/learning/langchain/LangChain-Course/12%20-%20SimpleSequentialChain.ipynb#W0sZmlsZQ%3D%3D?line=7'>8</a>\u001b[0m     deployment_name\u001b[39m=\u001b[39mdeployment,\n\u001b[1;32m      <a href='vscode-notebook-cell:/Users/jorgeluna/work/learning/langchain/LangChain-Course/12%20-%20SimpleSequentialChain.ipynb#W0sZmlsZQ%3D%3D?line=8'>9</a>\u001b[0m     model_name\u001b[39m=\u001b[39mdeployment\n\u001b[1;32m     <a href='vscode-notebook-cell:/Users/jorgeluna/work/learning/langchain/LangChain-Course/12%20-%20SimpleSequentialChain.ipynb#W0sZmlsZQ%3D%3D?line=9'>10</a>\u001b[0m     )\n",
      "\u001b[0;31mNameError\u001b[0m: name 'deployment' is not defined"
     ]
    }
   ],
   "source": [
    "import openai\n",
    "import os \n",
    "from langchain.chat_models import AzureChatOpenAI\n",
    "from langchain.prompts.chat import ChatPromptTemplate, HumanMessagePromptTemplate\n",
    "from langchain.chains import LLMChain,SimpleSequentialChain\n",
    "\n",
    "openai.api_key = os.getenv('OPENAI_API_KEY')\n",
    "openai.api_base= os.getenv('OPENAI_API_BASE')\n",
    "openai.api_type= \"azure\"\n",
    "openai.api_version = os.getenv('OPENAI_API_VERSION')\n",
    "deployment:str=os.getenv('CHATGPT_MODEL')\n",
    "\n",
    "llm = AzureChatOpenAI(\n",
    "    deployment_name=deployment,\n",
    "    model_name=deployment\n",
    "    )\n"
   ]
  },
  {
   "cell_type": "code",
   "execution_count": null,
   "id": "013b4954",
   "metadata": {},
   "outputs": [],
   "source": [
    "template_one = \"Provide three titles of movies about {topic}.\"\n",
    "\n",
    "prompt_one = ChatPromptTemplate.from_template(template_one)\n",
    "\n",
    "chain_one = LLMChain(llm=llm, prompt=prompt_one)\n",
    "\n",
    "template_two = \"Write a one sentence description for each movie in this {list}.\"\n",
    "\n",
    "prompt_two = ChatPromptTemplate.from_template(template_two)\n",
    "\n",
    "chain_two = LLMChain(llm=llm, prompt=prompt_two)\n",
    "\n",
    "final_chain = SimpleSequentialChain(chains=[chain_one,chain_two], verbose=True)\n",
    "\n",
    "result = final_chain.run('Romance')\n"
   ]
  },
  {
   "cell_type": "code",
   "execution_count": null,
   "id": "55fc0b7a",
   "metadata": {},
   "outputs": [],
   "source": []
  }
 ],
 "metadata": {
  "kernelspec": {
   "display_name": "Python 3 (ipykernel)",
   "language": "python",
   "name": "python3"
  },
  "language_info": {
   "codemirror_mode": {
    "name": "ipython",
    "version": 3
   },
   "file_extension": ".py",
   "mimetype": "text/x-python",
   "name": "python",
   "nbconvert_exporter": "python",
   "pygments_lexer": "ipython3",
   "version": "3.11.6"
  }
 },
 "nbformat": 4,
 "nbformat_minor": 5
}
