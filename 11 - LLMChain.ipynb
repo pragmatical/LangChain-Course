{
 "cells": [
  {
   "cell_type": "markdown",
   "id": "d6539b2b",
   "metadata": {},
   "source": [
    "# LLMChain"
   ]
  },
  {
   "cell_type": "code",
   "execution_count": 9,
   "id": "287ebde9",
   "metadata": {},
   "outputs": [],
   "source": [
    "import openai\n",
    "import os \n",
    "from langchain.chat_models import AzureChatOpenAI\n",
    "from langchain.llms import AzureOpenAI\n",
    "from langchain.prompts import PromptTemplate\n",
    "from langchain.chains import ConversationChain\n",
    "from langchain.memory import ConversationBufferMemory\n",
    "from langchain.chains import LLMChain\n",
    "\n",
    "openai.api_key = os.getenv('OPENAI_API_KEY')\n",
    "openai.api_base= os.getenv('OPENAI_API_BASE')\n",
    "openai.api_type= \"azure\"\n",
    "openai.api_version = os.getenv('OPENAI_API_VERSION')\n",
    "deployment:str=os.getenv('CHATGPT_MODEL')\n",
    "\n",
    "llm = AzureOpenAI(\n",
    "    deployment_name=deployment,\n",
    "    model_name=deployment\n",
    "    )\n"
   ]
  },
  {
   "cell_type": "code",
   "execution_count": 10,
   "id": "0986d8c9",
   "metadata": {},
   "outputs": [],
   "source": [
    "prompt_topic = \"What are tips for {topic}\"\n"
   ]
  },
  {
   "cell_type": "code",
   "execution_count": 11,
   "id": "8793e963",
   "metadata": {},
   "outputs": [
    {
     "ename": "NameError",
     "evalue": "name 'PromptTemplate' is not defined",
     "output_type": "error",
     "traceback": [
      "\u001b[0;31m---------------------------------------------------------------------------\u001b[0m",
      "\u001b[0;31mNameError\u001b[0m                                 Traceback (most recent call last)",
      "\u001b[1;32m/Users/jorgeluna/work/learning/langchain/LangChain-Course/11 - LLMChain.ipynb Cell 4\u001b[0m line \u001b[0;36m3\n\u001b[1;32m      <a href='vscode-notebook-cell:/Users/jorgeluna/work/learning/langchain/LangChain-Course/11%20-%20LLMChain.ipynb#W6sZmlsZQ%3D%3D?line=0'>1</a>\u001b[0m llm_chain \u001b[39m=\u001b[39m LLMChain(\n\u001b[1;32m      <a href='vscode-notebook-cell:/Users/jorgeluna/work/learning/langchain/LangChain-Course/11%20-%20LLMChain.ipynb#W6sZmlsZQ%3D%3D?line=1'>2</a>\u001b[0m     llm\u001b[39m=\u001b[39mllm,\n\u001b[0;32m----> <a href='vscode-notebook-cell:/Users/jorgeluna/work/learning/langchain/LangChain-Course/11%20-%20LLMChain.ipynb#W6sZmlsZQ%3D%3D?line=2'>3</a>\u001b[0m     prompt\u001b[39m=\u001b[39mPromptTemplate\u001b[39m.\u001b[39mfrom_template(prompt_topic)\n\u001b[1;32m      <a href='vscode-notebook-cell:/Users/jorgeluna/work/learning/langchain/LangChain-Course/11%20-%20LLMChain.ipynb#W6sZmlsZQ%3D%3D?line=3'>4</a>\u001b[0m )\n\u001b[1;32m      <a href='vscode-notebook-cell:/Users/jorgeluna/work/learning/langchain/LangChain-Course/11%20-%20LLMChain.ipynb#W6sZmlsZQ%3D%3D?line=4'>5</a>\u001b[0m llm_chain(\u001b[39m\"\u001b[39m\u001b[39msaving money\u001b[39m\u001b[39m\"\u001b[39m)\n",
      "\u001b[0;31mNameError\u001b[0m: name 'PromptTemplate' is not defined"
     ]
    }
   ],
   "source": [
    "llm_chain = LLMChain(\n",
    "    llm=llm,\n",
    "    prompt=PromptTemplate.from_template(prompt_topic)\n",
    ")\n",
    "llm_chain(\"saving money\")\n"
   ]
  },
  {
   "cell_type": "code",
   "execution_count": null,
   "id": "9ba4e8fb",
   "metadata": {},
   "outputs": [],
   "source": [
    "from langchain.output_parsers import CommaSeparatedListOutputParser\n"
   ]
  },
  {
   "cell_type": "code",
   "execution_count": null,
   "id": "3d311a40",
   "metadata": {},
   "outputs": [],
   "source": [
    "output_parser = CommaSeparatedListOutputParser()\n"
   ]
  },
  {
   "cell_type": "code",
   "execution_count": null,
   "id": "b585f693",
   "metadata": {},
   "outputs": [],
   "source": [
    "template = \"What are the planets?  Only use one word for each.\"\n"
   ]
  },
  {
   "cell_type": "code",
   "execution_count": null,
   "id": "e00649d7",
   "metadata": {},
   "outputs": [],
   "source": [
    "prompt = PromptTemplate(template=template, input_variables=[], output_parser=output_parser)\n"
   ]
  },
  {
   "cell_type": "code",
   "execution_count": null,
   "id": "1dc9df7b",
   "metadata": {},
   "outputs": [],
   "source": [
    "llm_chain = LLMChain(prompt=prompt, llm=llm)\n"
   ]
  },
  {
   "cell_type": "code",
   "execution_count": null,
   "id": "5795a05b",
   "metadata": {},
   "outputs": [],
   "source": [
    "llm_chain.predict()\n"
   ]
  },
  {
   "cell_type": "code",
   "execution_count": null,
   "id": "b1185cb4",
   "metadata": {},
   "outputs": [],
   "source": [
    "llm_chain.predict_and_parse()\n"
   ]
  },
  {
   "cell_type": "code",
   "execution_count": null,
   "id": "3998ad30",
   "metadata": {},
   "outputs": [],
   "source": []
  }
 ],
 "metadata": {
  "kernelspec": {
   "display_name": "Python 3 (ipykernel)",
   "language": "python",
   "name": "python3"
  },
  "language_info": {
   "codemirror_mode": {
    "name": "ipython",
    "version": 3
   },
   "file_extension": ".py",
   "mimetype": "text/x-python",
   "name": "python",
   "nbconvert_exporter": "python",
   "pygments_lexer": "ipython3",
   "version": "3.11.3"
  }
 },
 "nbformat": 4,
 "nbformat_minor": 5
}
