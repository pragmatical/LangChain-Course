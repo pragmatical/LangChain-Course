{
 "cells": [
  {
   "cell_type": "markdown",
   "id": "d6539b2b",
   "metadata": {},
   "source": [
    "# LLMChain"
   ]
  },
  {
   "cell_type": "code",
   "execution_count": 12,
   "id": "287ebde9",
   "metadata": {},
   "outputs": [],
   "source": [
    "import openai\n",
    "import os \n",
    "from langchain.chat_models import AzureChatOpenAI\n",
    "from langchain.llms import AzureOpenAI\n",
    "from langchain.prompts import PromptTemplate\n",
    "from langchain.chains import ConversationChain\n",
    "from langchain.memory import ConversationBufferMemory\n",
    "from langchain.chains import LLMChain\n",
    "from dotenv import load_dotenv\n",
    "\n",
    "load_dotenv()\n",
    "openai.api_key = os.getenv('OPENAI_API_KEY')\n",
    "openai.api_base= os.getenv('OPENAI_API_BASE')\n",
    "openai.api_type= \"azure\"\n",
    "openai.api_version = os.getenv('OPENAI_API_VERSION')\n",
    "deployment:str=os.getenv('CHATGPT_MODEL')\n",
    "\n",
    "llm = AzureOpenAI(\n",
    "    deployment_name=deployment,\n",
    "    model_name=deployment\n",
    "    )\n"
   ]
  },
  {
   "cell_type": "code",
   "execution_count": 13,
   "id": "0986d8c9",
   "metadata": {},
   "outputs": [],
   "source": [
    "prompt_topic = \"What are tips for {topic}\"\n"
   ]
  },
  {
   "cell_type": "code",
   "execution_count": 14,
   "id": "8793e963",
   "metadata": {},
   "outputs": [
    {
     "data": {
      "text/plain": [
       "{'topic': 'saving money',\n",
       " 'text': ' on a wedding?\\n\\nHow much does a registry cost?\\n\\nWhat are the most popular wedding gifts?\\n\\nWhat is the best way to save money on a wedding?\\n\\nWe had the most amazing experience working with The Party Place and their amazing team to bring our wedding dreams to life! We were planning our wedding from out of town, but the team at TPP made it so easy and enjoyable. From the first visit, we felt so welcomed and taken care of. We worked with Kaytee and she was an absolute dream to work with! She gave great suggestions and helped us to create the most beautiful reception space. We rented linens, chairs, tables, glassware, etc. from TPP and everything was delivered perfectly and on time. We had a lot of last minute changes and add-ons and the team was so accommodating and helpful. They went above and beyond to make sure everything was perfect. We could not have asked for a better rental company to work with for our wedding day and highly recommend them to anyone planning an event!\\n\\nWe rented linens and chairs for our wedding at the Rhododendron Garden. We worked with Kaytee who was very responsive, professional and helped us with suggestions. The linens and chairs were delivered on time and promptly picked up. It was'}"
      ]
     },
     "execution_count": 14,
     "metadata": {},
     "output_type": "execute_result"
    }
   ],
   "source": [
    "llm_chain = LLMChain(\n",
    "    llm=llm,\n",
    "    prompt=PromptTemplate.from_template(prompt_topic)\n",
    ")\n",
    "llm_chain(\"saving money\")\n"
   ]
  },
  {
   "cell_type": "code",
   "execution_count": 15,
   "id": "9ba4e8fb",
   "metadata": {},
   "outputs": [],
   "source": [
    "from langchain.output_parsers import CommaSeparatedListOutputParser\n"
   ]
  },
  {
   "cell_type": "code",
   "execution_count": 16,
   "id": "3d311a40",
   "metadata": {},
   "outputs": [],
   "source": [
    "output_parser = CommaSeparatedListOutputParser()\n"
   ]
  },
  {
   "cell_type": "code",
   "execution_count": 17,
   "id": "b585f693",
   "metadata": {},
   "outputs": [],
   "source": [
    "template = \"What are the planets?  Only use one word for each.\"\n"
   ]
  },
  {
   "cell_type": "code",
   "execution_count": 18,
   "id": "e00649d7",
   "metadata": {},
   "outputs": [],
   "source": [
    "prompt = PromptTemplate(template=template, input_variables=[], output_parser=output_parser)\n"
   ]
  },
  {
   "cell_type": "code",
   "execution_count": 19,
   "id": "1dc9df7b",
   "metadata": {},
   "outputs": [],
   "source": [
    "llm_chain = LLMChain(prompt=prompt, llm=llm)\n"
   ]
  },
  {
   "cell_type": "code",
   "execution_count": 20,
   "id": "5795a05b",
   "metadata": {},
   "outputs": [
    {
     "data": {
      "text/plain": [
       "'  Ex: Gas\\n\\nVenus\\n\\nMars\\n\\nSaturn\\n\\nJupiter\\n\\nMercury\\n\\nNeptune\\n\\nUranus\\n\\nPluto\\n\\nEarth\\n\\nYou can print out this free Solar System Bingo game here to play at home.\\n\\nFree Solar System Match Game\\n\\nAnother fun way to learn about the Solar System is to play a matching game. Here’s how to play:\\n\\nPrint out the Solar System Match Game printable.\\n\\nCut out the cards on the dotted lines.\\n\\nMix up the cards and place them face down on a flat surface.\\n\\nTake turns flipping over two cards at a time to try and find a match.\\n\\nIf you do find a match, keep those cards and go again.\\n\\nIf you don’t find a match, flip the cards back over and the next person takes a turn.\\n\\nThe person with the most matches at the end of the game wins!\\n\\nThis is a fun way to learn about the planets and their names. It’s also a great way to help kids focus and stay engaged.\\n\\nFree Solar System Word Search\\n\\nA word search is a great way to help kids learn about the Solar System. Here’s how to play:\\n\\nPrint out the Solar System Word Search printable.\\n\\nRead the words in the list at the bottom of the page.\\n\\nLook for each word in'"
      ]
     },
     "execution_count": 20,
     "metadata": {},
     "output_type": "execute_result"
    }
   ],
   "source": [
    "llm_chain.predict()\n"
   ]
  },
  {
   "cell_type": "code",
   "execution_count": 21,
   "id": "b1185cb4",
   "metadata": {},
   "outputs": [
    {
     "name": "stderr",
     "output_type": "stream",
     "text": [
      "/Users/jorgeluna/work/learning/langchain/LangChain-Course/venv-langchain-course/lib/python3.11/site-packages/langchain/chains/llm.py:280: UserWarning: The predict_and_parse method is deprecated, instead pass an output parser directly to LLMChain.\n",
      "  warnings.warn(\n"
     ]
    },
    {
     "data": {
      "text/plain": [
       "['(e.g. \"Earth\")\\n\\nPlanets: \\n\\n1. \\n2. \\n3. \\n4. \\n5. \\n6. \\n7. \\n8. \\n9. \\n10. \\n11. \\n12. \\n13. \\n14. \\n15. \\n16. \\n17. \\n18. \\n19. \\n20. \\n21. \\n22. \\n23. \\n24. \\n25. \\n26. \\n27. \\n28. \\n29. \\n30. \\n31. \\n32. \\n33. \\n34. \\n35. \\n36. \\n37. \\n38. \\n39. \\n40. \\n41. \\n42. \\n43. \\n44. \\n45. \\n46. \\n47. \\n48. \\n49. \\n50. \\n51. \\n52. \\n53. \\n54. \\n55. \\n56. \\n57. \\n58. \\n59. \\n60. \\n61. \\n62. \\n63. \\n64. \\n65. \\n66. \\n67. \\n68. \\n69. \\n70. \\n71. \\n72. \\n73. \\n74. \\n75. \\n76. \\n77. \\n78. \\n79. \\n80. \\n81. \\n82']"
      ]
     },
     "execution_count": 21,
     "metadata": {},
     "output_type": "execute_result"
    }
   ],
   "source": [
    "llm_chain.predict_and_parse()\n"
   ]
  },
  {
   "cell_type": "code",
   "execution_count": null,
   "id": "3998ad30",
   "metadata": {},
   "outputs": [],
   "source": []
  }
 ],
 "metadata": {
  "kernelspec": {
   "display_name": "Python 3 (ipykernel)",
   "language": "python",
   "name": "python3"
  },
  "language_info": {
   "codemirror_mode": {
    "name": "ipython",
    "version": 3
   },
   "file_extension": ".py",
   "mimetype": "text/x-python",
   "name": "python",
   "nbconvert_exporter": "python",
   "pygments_lexer": "ipython3",
   "version": "3.11.3"
  }
 },
 "nbformat": 4,
 "nbformat_minor": 5
}
