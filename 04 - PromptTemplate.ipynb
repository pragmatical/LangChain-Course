{
 "cells": [
  {
   "cell_type": "markdown",
   "id": "a3191092",
   "metadata": {},
   "source": [
    "# PromptTemplate - No Input Variable"
   ]
  },
  {
   "cell_type": "code",
   "execution_count": 29,
   "id": "0e51a5aa",
   "metadata": {},
   "outputs": [],
   "source": [
    "import openai\n",
    "import os \n",
    "from langchain.chat_models import AzureChatOpenAI\n",
    "from langchain.llms import AzureOpenAI\n",
    "from langchain.prompts import PromptTemplate\n"
   ]
  },
  {
   "cell_type": "code",
   "execution_count": 16,
   "id": "d717b672",
   "metadata": {},
   "outputs": [],
   "source": [
    "from dotenv import load_dotenv\n",
    "\n",
    "load_dotenv()\n",
    "\n",
    "openai.api_key = os.getenv('OPENAI_API_KEY')\n",
    "openai.api_base= os.getenv('OPENAI_API_BASE')\n",
    "openai.api_type= \"azure\"\n",
    "openai.api_version = os.getenv('OPENAI_API_VERSION')\n",
    "deployment:str=os.getenv('CHATGPT_MODEL')\n",
    "huggingfacetoken=os.getenv(\"HUGGINGFACEHUB_API_TOKEN\")\n"
   ]
  },
  {
   "cell_type": "code",
   "execution_count": 3,
   "id": "65a5dd5c",
   "metadata": {},
   "outputs": [
    {
     "name": "stdout",
     "output_type": "stream",
     "text": [
      "------------\n",
      "Answer from OpenAI: As an AI language model, I am not sure which interpretation of \"test\" you are looking for. Here are two different descriptions:\n",
      "\n",
      "1) A test is a procedure designed to measure the ability or knowledge of an individual or a system. Tests are commonly used in education, employment, and certification processes to determine the proficiency or aptitude of the test-taker in a particular field or subject. Tests can take various forms, such as standardized tests, aptitude tests, achievement tests, and personality tests\n"
     ]
    }
   ],
   "source": [
    "def describe(subject):\n",
    "    prompt = f\"Describe this topic: {subject}\"\n",
    "    messages = [{\"role\": \"user\", \"content\": prompt}]\n",
    "    \n",
    "    reply = openai.ChatCompletion.create(\n",
    "        engine=deployment,\n",
    "        max_tokens =100,\n",
    "        messages=messages\n",
    "    )\n",
    "    \n",
    "    return reply.choices[0].message[\"content\"]\n",
    "\n",
    "question = input(\"Please enter a prompt: \")\n",
    "openai_reply = describe(question)\n",
    "print(\"------------\")\n",
    "print(f\"Answer from OpenAI: {openai_reply}\")\n"
   ]
  },
  {
   "cell_type": "code",
   "execution_count": 17,
   "id": "bfdf4e37",
   "metadata": {},
   "outputs": [],
   "source": [
    "template = PromptTemplate(input_variables=[],template='What is chemistry?')\n"
   ]
  },
  {
   "cell_type": "code",
   "execution_count": 18,
   "id": "9fb22cc5",
   "metadata": {},
   "outputs": [
    {
     "data": {
      "text/plain": [
       "PromptTemplate(input_variables=[], template='What is chemistry?')"
      ]
     },
     "execution_count": 18,
     "metadata": {},
     "output_type": "execute_result"
    }
   ],
   "source": [
    "template\n"
   ]
  },
  {
   "cell_type": "code",
   "execution_count": 23,
   "id": "188b94dc",
   "metadata": {},
   "outputs": [
    {
     "data": {
      "text/plain": [
       "'What is chemistry?'"
      ]
     },
     "execution_count": 23,
     "metadata": {},
     "output_type": "execute_result"
    }
   ],
   "source": [
    "template.format()\n"
   ]
  },
  {
   "cell_type": "code",
   "execution_count": 30,
   "id": "c03734e8",
   "metadata": {},
   "outputs": [],
   "source": [
    "llm = AzureOpenAI(\n",
    "    deployment_name=deployment,\n",
    "    model_name=deployment\n",
    "    )\n"
   ]
  },
  {
   "cell_type": "code",
   "execution_count": 31,
   "id": "1537c3dc",
   "metadata": {},
   "outputs": [
    {
     "name": "stdout",
     "output_type": "stream",
     "text": [
      " | Science | The Guardian\n",
      "\n",
      "Chemistry is the scientific discipline involved with elements and compounds composed of atoms, molecules and ions: their composition, structure, properties, behavior and the changes they undergo during a reaction with other substances. In the scope of its subject, chemistry occupies an intermediate position between physics and biology. It is sometimes called the central science because it provides a foundation for understanding both basic and applied scientific disciplines at a fundamental level.[1]\n",
      "\n",
      "For example, chemistry explains aspects of plant chemistry (botany), the formation of igneous rocks (geology), how atmospheric ozone is formed and how environmental pollutants are degraded (ecology), the properties of the soil on the moon (astrophysics), how medications work (pharmacology), and how to collect DNA evidence at a crime scene (forensics).[2][3][4] Chemistry addresses topics such as how atoms and molecules interact via chemical bonds to form new chemical compounds. There are four types of chemical bonds: covalent bonds, in which compounds share one or more electron(s); ionic bonds, in which a compound donates one or more electrons to another compound to produce ions (cations and anions); hydrogen bonds; and Van der Waals force bonds.\n",
      "\n",
      "Wikipedia\n",
      "\n",
      "Chemistry is the\n"
     ]
    }
   ],
   "source": [
    "from langchain.schema import AIMessage, HumanMessage,SystemMessage\n",
    "print(llm(template.format()))\n",
    "\n"
   ]
  },
  {
   "cell_type": "code",
   "execution_count": 33,
   "id": "d284e650",
   "metadata": {},
   "outputs": [
    {
     "name": "stdout",
     "output_type": "stream",
     "text": [
      "------------\n",
      "Answer from OpenAI:  Algebra is a branch of mathematics that deals with the study of mathematical relationships between variables. It is concerned with the manipulation of symbols and the rules that govern their use. Algebra is the foundation of many other branches of mathematics, and it is used extensively in science, engineering, and economics. Algebraic…\n",
      "\n",
      "What is algebraic expression? An algebraic expression is a combination of constants, variables, and mathematical operations such as addition, subtraction, multiplication, and division. These expressions are used to represent a variety of mathematical relationships and can be used to solve complex problems by simplifying or rearranging them. Algebraic expressions are the foundation of algebra, and…\n",
      "\n",
      "What is a conditional equation? A conditional equation is an equation that is true only under certain conditions. These conditions are usually expressed using variables or other mathematical symbols. Conditional equations are often used in mathematical modeling and other applications, where the conditions under which a particular equation is valid are important. For example, in…\n",
      "\n",
      "What is a quadratic equation? A quadratic equation is a polynomial equation that contains one or more terms of degree two. It is a second-degree polynomial equation with the form ax² + bx + c = 0, where a, b, and c are constants. Quadratic equations have two solutions, which can be either\n"
     ]
    }
   ],
   "source": [
    "def describe_template(subject):\n",
    "    \n",
    "    prompt = PromptTemplate(input_variables=[\"subject\"],\n",
    "    template=\"What is {subject}?\")\n",
    "\n",
    "    return llm(prompt.format(subject=subject))\n",
    "\n",
    "question = input(\"Please enter a prompt: \")\n",
    "openai_reply = describe_template(question)\n",
    "print(\"------------\")\n",
    "print(f\"Answer from OpenAI: {openai_reply}\")\n"
   ]
  },
  {
   "cell_type": "code",
   "execution_count": 36,
   "id": "b31c2163",
   "metadata": {},
   "outputs": [
    {
     "name": "stdout",
     "output_type": "stream",
     "text": [
      "------------\n",
      "Answer from OpenAI:  They will be learning algebra and they should enjoy it. The tone should help to encourage this.\n",
      "\n",
      "What is algebra?\n",
      "\n",
      "It is the study of the rules of operations and relations, and the constructions and concepts arising from them, including terms, polynomials, equations and algebraic structures. Algebra is the language in which we can express and solve mathematical problems. It helps us to understand and describe relationships between objects, numbers, and patterns. It is used to solve problems in many areas of mathematics, science, engineering, and economics.\n",
      "\n",
      "What is a variable in algebra?\n",
      "\n",
      "A variable is a symbol that represents a number or a quantity that can change. It is usually represented by a letter, such as x, y, or z. Variables are used to write algebraic expressions and equations, and they help us to solve problems by representing unknown values.\n",
      "\n",
      "What is an algebraic expression?\n",
      "\n",
      "An algebraic expression is a combination of numbers, variables, and arithmetic operations, such as addition, subtraction, multiplication, and division. It can be simplified by combining like terms and using the order of operations. Algebraic expressions are used to represent mathematical relationships and to solve problems.\n",
      "\n",
      "What is a polynomial?\n",
      "\n",
      "A polynomial is an algebraic expression that consists of one or more terms, each of which is a\n"
     ]
    }
   ],
   "source": [
    "def describe_template_two(subject, tone):\n",
    "    \n",
    "    prompt = PromptTemplate(input_variables=[\"subject\", \"tone\"],\n",
    "    template=\"What is {subject}? The tone should be {tone}.\")\n",
    "\n",
    "    return llm(prompt.format(subject=subject, tone=tone))\n",
    "\n",
    "question = input(\"Please enter a prompt: \")\n",
    "tone = input(\"Please enter the tone: \")\n",
    "openai_reply = describe_template_two(question, tone)\n",
    "print(\"------------\")\n",
    "print(f\"Answer from OpenAI: {openai_reply}\")\n"
   ]
  },
  {
   "cell_type": "code",
   "execution_count": 37,
   "id": "a9b5de22",
   "metadata": {},
   "outputs": [],
   "source": [
    "from langchain.prompts import ChatPromptTemplate,SystemMessagePromptTemplate,AIMessagePromptTemplate,HumanMessagePromptTemplate\n"
   ]
  },
  {
   "cell_type": "code",
   "execution_count": 38,
   "id": "d0611f3e",
   "metadata": {},
   "outputs": [],
   "source": [
    "from langchain.schema import AIMessage,HumanMessage,SystemMessage\n"
   ]
  },
  {
   "cell_type": "code",
   "execution_count": 39,
   "id": "96df49a7",
   "metadata": {},
   "outputs": [],
   "source": [
    "chat_llm = AzureChatOpenAI(\n",
    "    deployment_name=deployment,\n",
    "    model_name=deployment\n",
    "    )\n"
   ]
  },
  {
   "cell_type": "code",
   "execution_count": 40,
   "id": "3634d296",
   "metadata": {},
   "outputs": [
    {
     "name": "stdout",
     "output_type": "stream",
     "text": [
      "------------\n",
      "Answer from OpenAI: As an AI language model, I did not attend a traditional school or university. However, my programming and development were influenced by a team of skilled engineers, data scientists, and linguists who trained and fine-tuned me to provide accurate and reliable information.\n"
     ]
    }
   ],
   "source": [
    "def consult(expertise, question):\n",
    "    \n",
    "    system_template = 'You are a consultant that is an expert in {expertise}'\n",
    "    system_message = SystemMessagePromptTemplate.from_template(system_template)\n",
    "    \n",
    "    human_template = \"{question}\"\n",
    "    human_message = HumanMessagePromptTemplate.from_template(human_template)\n",
    "    \n",
    "    chat_prompt = ChatPromptTemplate.from_messages([system_message,human_message])\n",
    "    prompt = chat_prompt.format_prompt(expertise=expertise,question=question).to_messages()\n",
    "    reply = chat_llm(prompt)\n",
    "\n",
    "    return reply.content\n",
    "    \n",
    "    #return reply.content\n",
    "\n",
    "expertise = input(\"What is the expertise of the consultant? \")\n",
    "question = input(\"What is the question for the consultant? \")\n",
    "openai_reply = consult(expertise, question)\n",
    "print(\"------------\")\n",
    "print(f\"Answer from OpenAI: {openai_reply}\")\n"
   ]
  },
  {
   "cell_type": "code",
   "execution_count": 41,
   "id": "22fda051",
   "metadata": {},
   "outputs": [],
   "source": [
    "system_template = 'You are a consultant that is an expert in {expertise}'\n",
    "system_message = SystemMessagePromptTemplate.from_template(system_template)\n"
   ]
  },
  {
   "cell_type": "code",
   "execution_count": 42,
   "id": "e344adfe",
   "metadata": {},
   "outputs": [
    {
     "data": {
      "text/plain": [
       "['expertise']"
      ]
     },
     "execution_count": 42,
     "metadata": {},
     "output_type": "execute_result"
    }
   ],
   "source": [
    "system_message.input_variables\n"
   ]
  },
  {
   "cell_type": "code",
   "execution_count": 43,
   "id": "62f1a73b",
   "metadata": {},
   "outputs": [
    {
     "name": "stdout",
     "output_type": "stream",
     "text": [
      "------------\n",
      "Answer from OpenAI: I am a man of ample girth.\n"
     ]
    }
   ],
   "source": [
    "def shakespeare_convert(modern_text_input):\n",
    "    template = \"You are an expert in translating modern Enlish into Shakespearean prose.\"\n",
    "    system_message = SystemMessagePromptTemplate.from_template(template)\n",
    "\n",
    "    modern_text = \"I just updated my profile picture.\"\n",
    "    modern_text_one = HumanMessagePromptTemplate.from_template(modern_text)\n",
    "\n",
    "    shakespeare_text = \"I hath but refreshed mine own visage upon yon profile.\"\n",
    "    shakespeare_text_one = AIMessagePromptTemplate.from_template(shakespeare_text)\n",
    "    \n",
    "    modern_text = \"I binge-watched that series last night.\"\n",
    "    modern_text_two = HumanMessagePromptTemplate.from_template(modern_text)\n",
    "\n",
    "    shakespeare_text = \"I didst indulge in viewing yon series through the night.\"\n",
    "    shakespeare_text_two = AIMessagePromptTemplate.from_template(shakespeare_text)    \n",
    "\n",
    "    human_template = \"{modern_text_input}\"\n",
    "    human_message = HumanMessagePromptTemplate.from_template(human_template)\n",
    "\n",
    "    chat_prompt = ChatPromptTemplate.from_messages(\n",
    "        [system_message, modern_text_one, shakespeare_text_one, modern_text_two, shakespeare_text_two, human_message]\n",
    "    )\n",
    "\n",
    "    prompt = chat_prompt.format_prompt(modern_text_input=modern_text_input).to_messages()\n",
    "\n",
    "    reply = chat_llm(prompt)\n",
    "\n",
    "    return reply.content\n",
    "\n",
    "modern_text_input = input(\"Enter a sentence: \")\n",
    "openai_reply = shakespeare_convert(modern_text_input)\n",
    "print(\"------------\")\n",
    "print(f\"Answer from OpenAI: {openai_reply}\")\n",
    "\n"
   ]
  },
  {
   "cell_type": "code",
   "execution_count": null,
   "id": "99aa3bc5",
   "metadata": {},
   "outputs": [],
   "source": []
  }
 ],
 "metadata": {
  "kernelspec": {
   "display_name": "Python 3 (ipykernel)",
   "language": "python",
   "name": "python3"
  },
  "language_info": {
   "codemirror_mode": {
    "name": "ipython",
    "version": 3
   },
   "file_extension": ".py",
   "mimetype": "text/x-python",
   "name": "python",
   "nbconvert_exporter": "python",
   "pygments_lexer": "ipython3",
   "version": "3.11.6"
  }
 },
 "nbformat": 4,
 "nbformat_minor": 5
}
