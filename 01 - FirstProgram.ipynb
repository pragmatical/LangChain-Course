{
 "cells": [
  {
   "cell_type": "markdown",
   "id": "b502105e",
   "metadata": {},
   "source": [
    "# First LangChain Program"
   ]
  },
  {
   "cell_type": "code",
   "execution_count": null,
   "id": "5bf38016",
   "metadata": {},
   "outputs": [],
   "source": [
    "import openai\n",
    "import os \n",
    "from dotenv import load_dotenv\n",
    "\n",
    "load_dotenv()\n"
   ]
  },
  {
   "cell_type": "code",
   "execution_count": null,
   "id": "9d9f9bea",
   "metadata": {},
   "outputs": [],
   "source": [
    "openai.api_key = os.getenv('OPENAI_API_KEY')\n",
    "openai.api_base= os.getenv('OPENAI_API_BASE')\n",
    "openai.api_type= \"azure\"\n",
    "openai.api_version = os.getenv('OPENAI_API_VERSION')\n",
    "deployment:str=os.getenv('CHATGPT_MODEL')\n"
   ]
  },
  {
   "cell_type": "code",
   "execution_count": null,
   "id": "d966d047",
   "metadata": {},
   "outputs": [],
   "source": [
    "reply = openai.ChatCompletion.create(\n",
    "  engine=deployment,\n",
    "  max_tokens =100,\n",
    "  messages=[\n",
    "        {\n",
    "            \"role\": \"system\",\n",
    "            \"content\": \"You are a helpful assistant.\"\n",
    "        },\n",
    "        {\n",
    "            \"role\": \"user\",\n",
    "            \"content\": \"What is a large language model?\",\n",
    "        }\n",
    "    ]\n",
    ")\n"
   ]
  },
  {
   "cell_type": "code",
   "execution_count": null,
   "id": "240945e3",
   "metadata": {},
   "outputs": [],
   "source": [
    "reply\n"
   ]
  },
  {
   "cell_type": "code",
   "execution_count": null,
   "id": "7f7b9d01",
   "metadata": {},
   "outputs": [],
   "source": [
    "print(reply['choices'][0]['message']['content'])\n"
   ]
  },
  {
   "cell_type": "code",
   "execution_count": null,
   "id": "de342a46",
   "metadata": {},
   "outputs": [],
   "source": [
    "from langchain.chat_models import AzureChatOpenAI\n"
   ]
  },
  {
   "cell_type": "code",
   "execution_count": null,
   "id": "f0ad4c77",
   "metadata": {},
   "outputs": [],
   "source": [
    "llm = AzureChatOpenAI(\n",
    "    deployment_name=deployment,\n",
    "    model_name=deployment\n",
    "    )\n"
   ]
  },
  {
   "cell_type": "code",
   "execution_count": null,
   "id": "7bfa5d77",
   "metadata": {},
   "outputs": [],
   "source": [
    "from langchain.schema import AIMessage, HumanMessage,SystemMessage\n"
   ]
  },
  {
   "cell_type": "code",
   "execution_count": null,
   "id": "494f70fd",
   "metadata": {},
   "outputs": [],
   "source": [
    "reply = llm([\n",
    "SystemMessage(content='You are a helpful assistant.'),\n",
    "HumanMessage(content='what is a large language model')])\n"
   ]
  },
  {
   "cell_type": "code",
   "execution_count": null,
   "id": "e6e6092d",
   "metadata": {},
   "outputs": [],
   "source": [
    "reply\n"
   ]
  },
  {
   "cell_type": "code",
   "execution_count": null,
   "id": "75863e83",
   "metadata": {},
   "outputs": [],
   "source": [
    "print(reply.content)\n"
   ]
  },
  {
   "cell_type": "code",
   "execution_count": null,
   "id": "f2e94798",
   "metadata": {},
   "outputs": [],
   "source": [
    "reply = llm.generate([\n",
    "[SystemMessage(content='You are a helpful assistant.'),\n",
    "HumanMessage(content='what is a large language model')],\n",
    "[SystemMessage(content='You are an AI expert.'),\n",
    "HumanMessage(content='what is generative ai?')]\n",
    "])\n"
   ]
  },
  {
   "cell_type": "code",
   "execution_count": null,
   "id": "300817ff",
   "metadata": {},
   "outputs": [],
   "source": [
    "reply.generations\n"
   ]
  },
  {
   "cell_type": "code",
   "execution_count": null,
   "id": "ed8394d8",
   "metadata": {},
   "outputs": [],
   "source": [
    "reply.generations[1]\n"
   ]
  },
  {
   "cell_type": "code",
   "execution_count": null,
   "id": "ceae5856",
   "metadata": {},
   "outputs": [],
   "source": [
    "reply.generations[1][0].text\n"
   ]
  },
  {
   "cell_type": "code",
   "execution_count": null,
   "id": "64f2fdb3",
   "metadata": {},
   "outputs": [],
   "source": [
    "reply = llm.generate([\n",
    "[SystemMessage(content='You are a helpful assistant.'),\n",
    "HumanMessage(content='what is generative ai')],\n",
    "[SystemMessage(content='You are a helpful assistant.'),\n",
    "HumanMessage(content='improve this definition')]\n",
    "])\n"
   ]
  },
  {
   "cell_type": "code",
   "execution_count": null,
   "id": "fe840760",
   "metadata": {},
   "outputs": [],
   "source": [
    "reply.generations\n"
   ]
  },
  {
   "cell_type": "code",
   "execution_count": null,
   "id": "d4cbbf00",
   "metadata": {},
   "outputs": [],
   "source": []
  }
 ],
 "metadata": {
  "kernelspec": {
   "display_name": "Python 3 (ipykernel)",
   "language": "python",
   "name": "python3"
  },
  "language_info": {
   "codemirror_mode": {
    "name": "ipython",
    "version": 3
   },
   "file_extension": ".py",
   "mimetype": "text/x-python",
   "name": "python",
   "nbconvert_exporter": "python",
   "pygments_lexer": "ipython3",
   "version": "3.11.6"
  }
 },
 "nbformat": 4,
 "nbformat_minor": 5
}
