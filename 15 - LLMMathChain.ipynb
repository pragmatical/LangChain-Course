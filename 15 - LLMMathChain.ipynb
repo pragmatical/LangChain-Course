{
 "cells": [
  {
   "cell_type": "markdown",
   "id": "4000799e",
   "metadata": {},
   "source": [
    "# LLMMathChain"
   ]
  },
  {
   "cell_type": "code",
   "execution_count": 1,
   "id": "8459af88",
   "metadata": {},
   "outputs": [],
   "source": [
    "import openai\n",
    "import os \n",
    "from langchain.chat_models import AzureChatOpenAI\n",
    "from langchain.schema import HumanMessage\n",
    "from langchain  import LLMMathChain\n",
    "from dotenv import load_dotenv\n",
    "\n",
    "load_dotenv()\n",
    "openai.api_key = os.getenv('OPENAI_API_KEY')\n",
    "openai.api_base= os.getenv('OPENAI_API_BASE')\n",
    "openai.api_type= \"azure\"\n",
    "openai.api_version = os.getenv('OPENAI_API_VERSION')\n",
    "deployment:str=os.getenv('CHATGPT_MODEL')\n",
    "\n",
    "llm = AzureChatOpenAI(\n",
    "    deployment_name=deployment,\n",
    "    model_name=deployment\n",
    "    )\n"
   ]
  },
  {
   "cell_type": "code",
   "execution_count": 2,
   "id": "a2507a6f",
   "metadata": {},
   "outputs": [],
   "source": [
    "result = llm([HumanMessage(content='What is 20 + 15 - 10')])\n"
   ]
  },
  {
   "cell_type": "code",
   "execution_count": 3,
   "id": "a2fc7864",
   "metadata": {},
   "outputs": [
    {
     "data": {
      "text/plain": [
       "'25'"
      ]
     },
     "execution_count": 3,
     "metadata": {},
     "output_type": "execute_result"
    }
   ],
   "source": [
    "result.content\n"
   ]
  },
  {
   "cell_type": "code",
   "execution_count": 6,
   "id": "d7a42270",
   "metadata": {},
   "outputs": [],
   "source": [
    "result = llm([HumanMessage(content='What is 200345 * 181')])\n"
   ]
  },
  {
   "cell_type": "code",
   "execution_count": 5,
   "id": "d8dc7310",
   "metadata": {},
   "outputs": [
    {
     "data": {
      "text/plain": [
       "'The product of 200345 and 181 is 36,242,845.'"
      ]
     },
     "execution_count": 5,
     "metadata": {},
     "output_type": "execute_result"
    }
   ],
   "source": [
    "result.content\n"
   ]
  },
  {
   "cell_type": "code",
   "execution_count": 7,
   "id": "f6eec420",
   "metadata": {},
   "outputs": [
    {
     "data": {
      "text/plain": [
       "{'question': 'What is 200345 * 181', 'answer': 'Answer: 36262445'}"
      ]
     },
     "execution_count": 7,
     "metadata": {},
     "output_type": "execute_result"
    }
   ],
   "source": [
    "llm_math = LLMMathChain.from_llm(llm)\n",
    "llm_math(\"What is 200345 * 181\")\n"
   ]
  },
  {
   "cell_type": "code",
   "execution_count": null,
   "id": "42e2bc57",
   "metadata": {},
   "outputs": [],
   "source": []
  }
 ],
 "metadata": {
  "kernelspec": {
   "display_name": "Python 3 (ipykernel)",
   "language": "python",
   "name": "python3"
  },
  "language_info": {
   "codemirror_mode": {
    "name": "ipython",
    "version": 3
   },
   "file_extension": ".py",
   "mimetype": "text/x-python",
   "name": "python",
   "nbconvert_exporter": "python",
   "pygments_lexer": "ipython3",
   "version": "3.11.6"
  }
 },
 "nbformat": 4,
 "nbformat_minor": 5
}
