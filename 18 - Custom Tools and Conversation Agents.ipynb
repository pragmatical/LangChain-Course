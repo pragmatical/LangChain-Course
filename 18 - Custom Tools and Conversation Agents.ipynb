{
 "cells": [
  {
   "cell_type": "markdown",
   "id": "6b91b408",
   "metadata": {},
   "source": [
    "# Custom Tools and Conversation Agents"
   ]
  },
  {
   "cell_type": "code",
   "execution_count": null,
   "id": "23168c2a",
   "metadata": {},
   "outputs": [],
   "source": [
    "# !pip install google-search-results\n"
   ]
  },
  {
   "cell_type": "code",
   "execution_count": 2,
   "id": "ed01d4cc",
   "metadata": {},
   "outputs": [],
   "source": [
    "import openai\n",
    "import os \n",
    "from langchain.chat_models import AzureChatOpenAI\n",
    "from langchain.agents import initialize_agent\n",
    "from langchain.agents import AgentType\n",
    "from langchain.agents import load_tools\n",
    "from dotenv import load_dotenv\n",
    "\n",
    "load_dotenv()\n",
    "openai.api_key = os.getenv('OPENAI_API_KEY')\n",
    "openai.api_base= os.getenv('OPENAI_API_BASE')\n",
    "openai.api_type= \"azure\"\n",
    "openai.api_version = os.getenv('OPENAI_API_VERSION')\n",
    "deployment:str=os.getenv('CHATGPT_MODEL')\n",
    "\n",
    "llm = AzureChatOpenAI(\n",
    "    deployment_name=deployment,\n",
    "    model_name=deployment\n",
    "    )\n"
   ]
  },
  {
   "cell_type": "code",
   "execution_count": null,
   "id": "918c0cdc",
   "metadata": {},
   "outputs": [],
   "source": [
    "tools = load_tools([\n",
    "'serpapi','llm-math'], llm=llm\n",
    ")\n"
   ]
  },
  {
   "cell_type": "code",
   "execution_count": null,
   "id": "a74bb038",
   "metadata": {},
   "outputs": [],
   "source": [
    "agent = initialize_agent(tools, llm, AgentType.ZERO_SHOT_REACT_DESCRIPTION, verbose=True)\n"
   ]
  },
  {
   "cell_type": "code",
   "execution_count": null,
   "id": "2b8e516c",
   "metadata": {},
   "outputs": [],
   "source": [
    "agent.run(\"What am I thinking right now?\")\n"
   ]
  },
  {
   "cell_type": "code",
   "execution_count": null,
   "id": "28208479",
   "metadata": {},
   "outputs": [],
   "source": [
    "from langchain.agents import tool\n"
   ]
  },
  {
   "cell_type": "code",
   "execution_count": null,
   "id": "42701c76",
   "metadata": {},
   "outputs": [],
   "source": [
    "@tool\n",
    "def read_my_mind(text: str) -> str:\n",
    "    '''\n",
    "    This is a function that shows what I am thinking right now.  It takes in an input of an empty string '' and returns what is on the person's mind.\n",
    "\n",
    "    '''\n",
    "    return 'LangChain'\n"
   ]
  },
  {
   "cell_type": "code",
   "execution_count": null,
   "id": "9ed87a9c",
   "metadata": {},
   "outputs": [],
   "source": [
    "tools = load_tools([\n",
    "'serpapi','llm-math'], llm=llm\n",
    ")\n"
   ]
  },
  {
   "cell_type": "code",
   "execution_count": null,
   "id": "e8bc75c7",
   "metadata": {},
   "outputs": [],
   "source": [
    "tools = tools + [read_my_mind]\n"
   ]
  },
  {
   "cell_type": "code",
   "execution_count": null,
   "id": "807dceb7",
   "metadata": {},
   "outputs": [],
   "source": [
    "agent = initialize_agent(tools, llm, AgentType.ZERO_SHOT_REACT_DESCRIPTION, verbose=True)\n"
   ]
  },
  {
   "cell_type": "code",
   "execution_count": null,
   "id": "76f82a9a",
   "metadata": {},
   "outputs": [],
   "source": [
    "agent.run(\"What am I thinking right now?\")\n"
   ]
  },
  {
   "cell_type": "code",
   "execution_count": null,
   "id": "73787bd5",
   "metadata": {},
   "outputs": [],
   "source": [
    "from langchain.memory import ConversationBufferMemory\n"
   ]
  },
  {
   "cell_type": "code",
   "execution_count": null,
   "id": "8b09c143",
   "metadata": {},
   "outputs": [],
   "source": [
    "memory = ConversationBufferMemory(memory_key='chat_history')\n"
   ]
  },
  {
   "cell_type": "code",
   "execution_count": null,
   "id": "03ae7079",
   "metadata": {},
   "outputs": [],
   "source": [
    "llm = ChatOpenAI(temperature=0)\n"
   ]
  },
  {
   "cell_type": "code",
   "execution_count": null,
   "id": "ba28bd1b",
   "metadata": {},
   "outputs": [],
   "source": [
    "tools = load_tools([\n",
    "'serpapi'], llm=llm\n",
    ")\n"
   ]
  },
  {
   "cell_type": "code",
   "execution_count": null,
   "id": "9f83e28a",
   "metadata": {},
   "outputs": [],
   "source": [
    "agent = initialize_agent(\n",
    "tools,\n",
    "llm,\n",
    "agent=AgentType.CONVERSATIONAL_REACT_DESCRIPTION,\n",
    "memory=memory,\n",
    "verbose=True)\n"
   ]
  },
  {
   "cell_type": "code",
   "execution_count": null,
   "id": "0d21528c",
   "metadata": {},
   "outputs": [],
   "source": [
    "agent.run(input='What is 5 plus 5?')\n"
   ]
  },
  {
   "cell_type": "code",
   "execution_count": null,
   "id": "e0db342c",
   "metadata": {},
   "outputs": [],
   "source": [
    "agent.run(input='Take the result and multiply it by 10.')\n"
   ]
  },
  {
   "cell_type": "code",
   "execution_count": null,
   "id": "d71fdc63",
   "metadata": {},
   "outputs": [],
   "source": []
  }
 ],
 "metadata": {
  "kernelspec": {
   "display_name": "Python 3 (ipykernel)",
   "language": "python",
   "name": "python3"
  },
  "language_info": {
   "codemirror_mode": {
    "name": "ipython",
    "version": 3
   },
   "file_extension": ".py",
   "mimetype": "text/x-python",
   "name": "python",
   "nbconvert_exporter": "python",
   "pygments_lexer": "ipython3",
   "version": "3.11.6"
  }
 },
 "nbformat": 4,
 "nbformat_minor": 5
}
