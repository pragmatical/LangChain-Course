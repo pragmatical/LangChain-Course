{
 "cells": [
  {
   "cell_type": "markdown",
   "id": "ec5b0815",
   "metadata": {},
   "source": [
    "# SequentialChain"
   ]
  },
  {
   "cell_type": "code",
   "execution_count": null,
   "id": "5a610d4a",
   "metadata": {},
   "outputs": [],
   "source": [
    "import openai\n",
    "import os \n",
    "from langchain.llms import OpenAI\n",
    "from langchain.chat_models import AzureChatOpenAI\n",
    "from langchain.prompts.chat import ChatPromptTemplate, HumanMessagePromptTemplate, PromptTemplate\n",
    "from langchain.chains import LLMChain,SequentialChain\n",
    "\n",
    "llm = AzureChatOpenAI(\n",
    "    deployment_name=deployment,\n",
    "    model_name=deployment\n",
    "    )\n"
   ]
  },
  {
   "cell_type": "code",
   "execution_count": null,
   "id": "2487fa36",
   "metadata": {},
   "outputs": [],
   "source": [
    "code_template = \"You are a developer.  Write a program in {language} that does {task}.\"\n",
    "code_prompt_template = PromptTemplate(input_variables=[\"language\", \"task\"], template=code_template)\n",
    "code_chain = LLMChain(llm=llm, prompt=code_prompt_template, output_key=\"code\")\n"
   ]
  },
  {
   "cell_type": "code",
   "execution_count": null,
   "id": "cb7a6ff0",
   "metadata": {},
   "outputs": [],
   "source": [
    "explain_template = \"Explain this {code}.\"\n",
    "explain_prompt_template = PromptTemplate(input_variables=[\"code\"], template=explain_template)\n",
    "explain_chain = LLMChain(llm=llm, prompt=explain_prompt_template, output_key=\"explanation\")\n"
   ]
  },
  {
   "cell_type": "code",
   "execution_count": null,
   "id": "36103097",
   "metadata": {},
   "outputs": [],
   "source": [
    "\n",
    "overall_chain = SequentialChain(\n",
    "    chains=[code_chain, explain_chain],\n",
    "    input_variables=[\"language\", \"task\"],\n",
    "    output_variables=[\"code\", \"explanation\"]\n",
    "    )\n"
   ]
  },
  {
   "cell_type": "code",
   "execution_count": null,
   "id": "bdfdc2cb",
   "metadata": {},
   "outputs": [],
   "source": [
    "results = overall_chain({\"language\":\"Python\", \"task\": \"function that adds two numbers\"})\n"
   ]
  },
  {
   "cell_type": "code",
   "execution_count": null,
   "id": "8bab16ea",
   "metadata": {},
   "outputs": [],
   "source": [
    "print(results)\n"
   ]
  },
  {
   "cell_type": "code",
   "execution_count": null,
   "id": "cc9c14b8",
   "metadata": {},
   "outputs": [],
   "source": [
    "print(results['language'])\n"
   ]
  },
  {
   "cell_type": "code",
   "execution_count": null,
   "id": "dce816d8",
   "metadata": {},
   "outputs": [],
   "source": [
    "print(results['task'])\n"
   ]
  },
  {
   "cell_type": "code",
   "execution_count": null,
   "id": "891fb736",
   "metadata": {},
   "outputs": [],
   "source": [
    "print(results['code'])\n"
   ]
  },
  {
   "cell_type": "code",
   "execution_count": null,
   "id": "dff477ce",
   "metadata": {},
   "outputs": [],
   "source": [
    "print(results['explanation'])\n"
   ]
  },
  {
   "cell_type": "code",
   "execution_count": null,
   "id": "b1f13858",
   "metadata": {},
   "outputs": [],
   "source": []
  }
 ],
 "metadata": {
  "kernelspec": {
   "display_name": "Python 3 (ipykernel)",
   "language": "python",
   "name": "python3"
  },
  "language_info": {
   "codemirror_mode": {
    "name": "ipython",
    "version": 3
   },
   "file_extension": ".py",
   "mimetype": "text/x-python",
   "name": "python",
   "nbconvert_exporter": "python",
   "pygments_lexer": "ipython3",
   "version": "3.11.3"
  }
 },
 "nbformat": 4,
 "nbformat_minor": 5
}
