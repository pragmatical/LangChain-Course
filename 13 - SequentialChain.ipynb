{
 "cells": [
  {
   "cell_type": "markdown",
   "id": "ec5b0815",
   "metadata": {},
   "source": [
    "# SequentialChain"
   ]
  },
  {
   "cell_type": "code",
   "execution_count": 2,
   "id": "5a610d4a",
   "metadata": {},
   "outputs": [],
   "source": [
    "import openai\n",
    "import os \n",
    "from langchain.llms import OpenAI\n",
    "from langchain.chat_models import AzureChatOpenAI\n",
    "from langchain.prompts.chat import ChatPromptTemplate, HumanMessagePromptTemplate, PromptTemplate\n",
    "from langchain.chains import LLMChain,SequentialChain\n",
    "from dotenv import load_dotenv\n",
    "\n",
    "load_dotenv()\n",
    "openai.api_key = os.getenv('OPENAI_API_KEY')\n",
    "openai.api_base= os.getenv('OPENAI_API_BASE')\n",
    "openai.api_type= \"azure\"\n",
    "openai.api_version = os.getenv('OPENAI_API_VERSION')\n",
    "deployment:str=os.getenv('CHATGPT_MODEL')\n",
    "\n",
    "llm = AzureChatOpenAI(\n",
    "    deployment_name=deployment,\n",
    "    model_name=deployment\n",
    "    )\n"
   ]
  },
  {
   "cell_type": "code",
   "execution_count": 3,
   "id": "2487fa36",
   "metadata": {},
   "outputs": [],
   "source": [
    "code_template = \"You are a developer.  Write a program in {language} that does {task}.\"\n",
    "code_prompt_template = PromptTemplate(input_variables=[\"language\", \"task\"], template=code_template)\n",
    "code_chain = LLMChain(llm=llm, prompt=code_prompt_template, output_key=\"code\")\n"
   ]
  },
  {
   "cell_type": "code",
   "execution_count": 4,
   "id": "cb7a6ff0",
   "metadata": {},
   "outputs": [],
   "source": [
    "explain_template = \"Explain this {code}.\"\n",
    "explain_prompt_template = PromptTemplate(input_variables=[\"code\"], template=explain_template)\n",
    "explain_chain = LLMChain(llm=llm, prompt=explain_prompt_template, output_key=\"explanation\")\n"
   ]
  },
  {
   "cell_type": "code",
   "execution_count": 5,
   "id": "36103097",
   "metadata": {},
   "outputs": [],
   "source": [
    "\n",
    "overall_chain = SequentialChain(\n",
    "    chains=[code_chain, explain_chain],\n",
    "    input_variables=[\"language\", \"task\"],\n",
    "    output_variables=[\"code\", \"explanation\"]\n",
    "    )\n"
   ]
  },
  {
   "cell_type": "code",
   "execution_count": 6,
   "id": "bdfdc2cb",
   "metadata": {},
   "outputs": [],
   "source": [
    "results = overall_chain({\"language\":\"Python\", \"task\": \"function that adds two numbers\"})\n"
   ]
  },
  {
   "cell_type": "code",
   "execution_count": 7,
   "id": "8bab16ea",
   "metadata": {},
   "outputs": [
    {
     "name": "stdout",
     "output_type": "stream",
     "text": [
      "{'language': 'Python', 'task': 'function that adds two numbers', 'code': 'As an AI language model, I can provide you with a Python code that does function that adds two numbers:\\n\\n```\\ndef add_numbers(num1, num2):\\n    return num1 + num2\\n\\n# Example usage\\nresult = add_numbers(5, 7)\\nprint(result)  # Output: 12\\n```\\n\\nIn this code, we have defined a function called `add_numbers` that takes two arguments `num1` and `num2`. The function adds these two numbers and returns the result. We have also provided an example usage of this function by calling it with two values `5` and `7` and storing the result in a variable `result`. Finally, we print the result using the `print` function.', 'explanation': 'This Python code defines a function called `add_numbers` that takes two arguments, `num1` and `num2`. Inside the function, the two numbers are added together using the `+` operator and the result is returned using the `return` statement. \\n\\nTo use this function, you can call it with two numbers as arguments, like `add_numbers(5, 7)`. The result of the function call will be the sum of the two numbers, which can be stored in a variable for further use. \\n\\nIn the example provided, the function is called with `num1` as `5` and `num2` as `7`. The result of the function call is `12`, which is then printed to the console using the `print` function.'}\n"
     ]
    }
   ],
   "source": [
    "print(results)\n"
   ]
  },
  {
   "cell_type": "code",
   "execution_count": 8,
   "id": "cc9c14b8",
   "metadata": {},
   "outputs": [
    {
     "name": "stdout",
     "output_type": "stream",
     "text": [
      "Python\n"
     ]
    }
   ],
   "source": [
    "print(results['language'])\n"
   ]
  },
  {
   "cell_type": "code",
   "execution_count": 9,
   "id": "dce816d8",
   "metadata": {},
   "outputs": [
    {
     "name": "stdout",
     "output_type": "stream",
     "text": [
      "function that adds two numbers\n"
     ]
    }
   ],
   "source": [
    "print(results['task'])\n"
   ]
  },
  {
   "cell_type": "code",
   "execution_count": 10,
   "id": "891fb736",
   "metadata": {},
   "outputs": [
    {
     "name": "stdout",
     "output_type": "stream",
     "text": [
      "As an AI language model, I can provide you with a Python code that does function that adds two numbers:\n",
      "\n",
      "```\n",
      "def add_numbers(num1, num2):\n",
      "    return num1 + num2\n",
      "\n",
      "# Example usage\n",
      "result = add_numbers(5, 7)\n",
      "print(result)  # Output: 12\n",
      "```\n",
      "\n",
      "In this code, we have defined a function called `add_numbers` that takes two arguments `num1` and `num2`. The function adds these two numbers and returns the result. We have also provided an example usage of this function by calling it with two values `5` and `7` and storing the result in a variable `result`. Finally, we print the result using the `print` function.\n"
     ]
    }
   ],
   "source": [
    "print(results['code'])\n"
   ]
  },
  {
   "cell_type": "code",
   "execution_count": 11,
   "id": "dff477ce",
   "metadata": {},
   "outputs": [
    {
     "name": "stdout",
     "output_type": "stream",
     "text": [
      "This Python code defines a function called `add_numbers` that takes two arguments, `num1` and `num2`. Inside the function, the two numbers are added together using the `+` operator and the result is returned using the `return` statement. \n",
      "\n",
      "To use this function, you can call it with two numbers as arguments, like `add_numbers(5, 7)`. The result of the function call will be the sum of the two numbers, which can be stored in a variable for further use. \n",
      "\n",
      "In the example provided, the function is called with `num1` as `5` and `num2` as `7`. The result of the function call is `12`, which is then printed to the console using the `print` function.\n"
     ]
    }
   ],
   "source": [
    "print(results['explanation'])\n"
   ]
  },
  {
   "cell_type": "code",
   "execution_count": null,
   "id": "b1f13858",
   "metadata": {},
   "outputs": [],
   "source": []
  }
 ],
 "metadata": {
  "kernelspec": {
   "display_name": "Python 3 (ipykernel)",
   "language": "python",
   "name": "python3"
  },
  "language_info": {
   "codemirror_mode": {
    "name": "ipython",
    "version": 3
   },
   "file_extension": ".py",
   "mimetype": "text/x-python",
   "name": "python",
   "nbconvert_exporter": "python",
   "pygments_lexer": "ipython3",
   "version": "3.11.6"
  }
 },
 "nbformat": 4,
 "nbformat_minor": 5
}
