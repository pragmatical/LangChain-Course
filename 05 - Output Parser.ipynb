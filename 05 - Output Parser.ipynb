{
 "cells": [
  {
   "cell_type": "markdown",
   "id": "25930bd6",
   "metadata": {},
   "source": [
    "# Output Parser"
   ]
  },
  {
   "cell_type": "code",
   "execution_count": 3,
   "id": "aa63edb3",
   "metadata": {},
   "outputs": [],
   "source": [
    "import openai\n",
    "import os \n",
    "from langchain.chat_models import AzureChatOpenAI\n",
    "from langchain.prompts import ChatPromptTemplate,SystemMessagePromptTemplate,AIMessagePromptTemplate,HumanMessagePromptTemplate\n",
    "from dotenv import load_dotenv\n",
    "\n",
    "load_dotenv()\n"
   ]
  },
  {
   "cell_type": "code",
   "execution_count": 4,
   "id": "02c634ca",
   "metadata": {},
   "outputs": [],
   "source": [
    "openai.api_key = os.getenv('OPENAI_API_KEY')\n",
    "openai.api_base= os.getenv('OPENAI_API_BASE')\n",
    "openai.api_type= \"azure\"\n",
    "openai.api_version = os.getenv('OPENAI_API_VERSION')\n",
    "deployment:str=os.getenv('CHATGPT_MODEL')\n",
    "\n",
    "llm = AzureChatOpenAI(\n",
    "    deployment_name=deployment,\n",
    "    model_name=deployment\n",
    "    )\n"
   ]
  },
  {
   "cell_type": "code",
   "execution_count": 5,
   "id": "bb7ecfc7",
   "metadata": {},
   "outputs": [],
   "source": [
    "from langchain.output_parsers import CommaSeparatedListOutputParser\n"
   ]
  },
  {
   "cell_type": "code",
   "execution_count": 6,
   "id": "5a74e91b",
   "metadata": {},
   "outputs": [],
   "source": [
    "csv_parser = CommaSeparatedListOutputParser()\n"
   ]
  },
  {
   "cell_type": "code",
   "execution_count": 7,
   "id": "62310bdb",
   "metadata": {},
   "outputs": [
    {
     "data": {
      "text/plain": [
       "'Your response should be a list of comma separated values, eg: `foo, bar, baz`'"
      ]
     },
     "execution_count": 7,
     "metadata": {},
     "output_type": "execute_result"
    }
   ],
   "source": [
    "csv_parser.get_format_instructions()\n"
   ]
  },
  {
   "cell_type": "code",
   "execution_count": 8,
   "id": "b523ba4c",
   "metadata": {},
   "outputs": [],
   "source": [
    "human_template = \"{instruction}\\n{format_instructions}\"\n",
    "human_prompt = HumanMessagePromptTemplate.from_template(human_template)\n"
   ]
  },
  {
   "cell_type": "code",
   "execution_count": 9,
   "id": "5e286af5",
   "metadata": {},
   "outputs": [],
   "source": [
    "chat = ChatPromptTemplate.from_messages([human_prompt])\n"
   ]
  },
  {
   "cell_type": "code",
   "execution_count": 10,
   "id": "6a132115",
   "metadata": {},
   "outputs": [
    {
     "data": {
      "text/plain": [
       "[HumanMessage(content='List the 5 citities with the highest populations\\nYour response should be a list of comma separated values, eg: `foo, bar, baz`')]"
      ]
     },
     "execution_count": 10,
     "metadata": {},
     "output_type": "execute_result"
    }
   ],
   "source": [
    "chat.format_prompt(instruction=\"List the 5 citities with the highest populations\", \n",
    "format_instructions=csv_parser.get_format_instructions()).to_messages()\n"
   ]
  },
  {
   "cell_type": "code",
   "execution_count": 11,
   "id": "2f62e7a5",
   "metadata": {},
   "outputs": [],
   "source": [
    "prompt = chat.format_prompt(instruction=\"List the 5 citities with the highest populations\", \n",
    "format_instructions=csv_parser.get_format_instructions()).to_messages()\n"
   ]
  },
  {
   "cell_type": "code",
   "execution_count": 12,
   "id": "fefafa4b",
   "metadata": {},
   "outputs": [
    {
     "data": {
      "text/plain": [
       "'Tokyo, Delhi, Shanghai, São Paulo, Mumbai'"
      ]
     },
     "execution_count": 12,
     "metadata": {},
     "output_type": "execute_result"
    }
   ],
   "source": [
    "reply = llm(prompt)\n",
    "reply.content\n"
   ]
  },
  {
   "cell_type": "code",
   "execution_count": 13,
   "id": "a46ee8df",
   "metadata": {},
   "outputs": [
    {
     "data": {
      "text/plain": [
       "['Tokyo', 'Delhi', 'Shanghai', 'São Paulo', 'Mumbai']"
      ]
     },
     "execution_count": 13,
     "metadata": {},
     "output_type": "execute_result"
    }
   ],
   "source": [
    "csv_parser.parse(reply.content)\n"
   ]
  },
  {
   "cell_type": "code",
   "execution_count": 14,
   "id": "86f83847",
   "metadata": {},
   "outputs": [
    {
     "data": {
      "text/plain": [
       "['T',\n",
       " 'o',\n",
       " 'k',\n",
       " 'y',\n",
       " 'o',\n",
       " ',',\n",
       " ' ',\n",
       " 'D',\n",
       " 'e',\n",
       " 'l',\n",
       " 'h',\n",
       " 'i',\n",
       " ',',\n",
       " ' ',\n",
       " 'S',\n",
       " 'h',\n",
       " 'a',\n",
       " 'n',\n",
       " 'g',\n",
       " 'h',\n",
       " 'a',\n",
       " 'i',\n",
       " ',',\n",
       " ' ',\n",
       " 'S',\n",
       " 'ã',\n",
       " 'o',\n",
       " ' ',\n",
       " 'P',\n",
       " 'a',\n",
       " 'u',\n",
       " 'l',\n",
       " 'o',\n",
       " ',',\n",
       " ' ',\n",
       " 'M',\n",
       " 'u',\n",
       " 'm',\n",
       " 'b',\n",
       " 'a',\n",
       " 'i']"
      ]
     },
     "execution_count": 14,
     "metadata": {},
     "output_type": "execute_result"
    }
   ],
   "source": [
    "list(reply.content)\n"
   ]
  },
  {
   "cell_type": "code",
   "execution_count": 15,
   "id": "a4be2b06",
   "metadata": {},
   "outputs": [],
   "source": [
    "from langchain.output_parsers import DatetimeOutputParser\n"
   ]
  },
  {
   "cell_type": "code",
   "execution_count": 16,
   "id": "8870bfee",
   "metadata": {},
   "outputs": [],
   "source": [
    "datetime_parser = DatetimeOutputParser()\n"
   ]
  },
  {
   "cell_type": "code",
   "execution_count": 17,
   "id": "b71c7d06",
   "metadata": {},
   "outputs": [
    {
     "data": {
      "text/plain": [
       "'Write a datetime string that matches the \\n            following pattern: \"%Y-%m-%dT%H:%M:%S.%fZ\". Examples: 1019-04-01T15:48:21.024612Z, 0049-02-22T23:39:00.616111Z, 1610-03-02T15:57:51.948059Z'"
      ]
     },
     "execution_count": 17,
     "metadata": {},
     "output_type": "execute_result"
    }
   ],
   "source": [
    "datetime_parser.get_format_instructions()\n"
   ]
  },
  {
   "cell_type": "code",
   "execution_count": 18,
   "id": "9a65e472",
   "metadata": {},
   "outputs": [],
   "source": [
    "human_text = \"{instruction}\\n{format_instructions}\"\n",
    "\n",
    "human_prompt = HumanMessagePromptTemplate.from_template(human_text)\n"
   ]
  },
  {
   "cell_type": "code",
   "execution_count": 19,
   "id": "bc98b753",
   "metadata": {},
   "outputs": [],
   "source": [
    "system_prompt = SystemMessagePromptTemplate.from_template(\"You always give reponses with datetiem formats.\")\n"
   ]
  },
  {
   "cell_type": "code",
   "execution_count": 20,
   "id": "fb6a978d",
   "metadata": {},
   "outputs": [],
   "source": [
    "chat = ChatPromptTemplate.from_messages([system_prompt, human_prompt])\n"
   ]
  },
  {
   "cell_type": "code",
   "execution_count": 21,
   "id": "558ea0f4",
   "metadata": {},
   "outputs": [],
   "source": [
    "prompt = chat.format_prompt(instruction=\"The date for when the Netscape browser was launched.\", \n",
    "format_instructions=datetime_parser.get_format_instructions()).to_messages()\n"
   ]
  },
  {
   "cell_type": "code",
   "execution_count": 22,
   "id": "3f3ab583",
   "metadata": {},
   "outputs": [
    {
     "data": {
      "text/plain": [
       "'The Netscape browser was launched on December 15, 1994.\\nThe datetime string that matches the given pattern is \"1994-12-15T00:00:00.000000Z\".'"
      ]
     },
     "execution_count": 22,
     "metadata": {},
     "output_type": "execute_result"
    }
   ],
   "source": [
    "reply = llm(prompt)\n",
    "reply.content\n"
   ]
  },
  {
   "cell_type": "code",
   "execution_count": 23,
   "id": "ba086d9d",
   "metadata": {},
   "outputs": [
    {
     "ename": "OutputParserException",
     "evalue": "Could not parse datetime string: The Netscape browser was launched on December 15, 1994.\nThe datetime string that matches the given pattern is \"1994-12-15T00:00:00.000000Z\".",
     "output_type": "error",
     "traceback": [
      "\u001b[0;31m---------------------------------------------------------------------------\u001b[0m",
      "\u001b[0;31mValueError\u001b[0m                                Traceback (most recent call last)",
      "File \u001b[0;32m~/work/learning/langchain/LangChain-Course/venv-langchain-course/lib/python3.11/site-packages/langchain/output_parsers/datetime.py:45\u001b[0m, in \u001b[0;36mDatetimeOutputParser.parse\u001b[0;34m(self, response)\u001b[0m\n\u001b[1;32m     44\u001b[0m \u001b[39mtry\u001b[39;00m:\n\u001b[0;32m---> 45\u001b[0m     \u001b[39mreturn\u001b[39;00m datetime\u001b[39m.\u001b[39;49mstrptime(response\u001b[39m.\u001b[39;49mstrip(), \u001b[39mself\u001b[39;49m\u001b[39m.\u001b[39;49mformat)\n\u001b[1;32m     46\u001b[0m \u001b[39mexcept\u001b[39;00m \u001b[39mValueError\u001b[39;00m \u001b[39mas\u001b[39;00m e:\n",
      "File \u001b[0;32m/opt/homebrew/Cellar/python@3.11/3.11.6/Frameworks/Python.framework/Versions/3.11/lib/python3.11/_strptime.py:568\u001b[0m, in \u001b[0;36m_strptime_datetime\u001b[0;34m(cls, data_string, format)\u001b[0m\n\u001b[1;32m    566\u001b[0m \u001b[39m\u001b[39m\u001b[39m\"\"\"Return a class cls instance based on the input string and the\u001b[39;00m\n\u001b[1;32m    567\u001b[0m \u001b[39mformat string.\"\"\"\u001b[39;00m\n\u001b[0;32m--> 568\u001b[0m tt, fraction, gmtoff_fraction \u001b[39m=\u001b[39m _strptime(data_string, \u001b[39mformat\u001b[39;49m)\n\u001b[1;32m    569\u001b[0m tzname, gmtoff \u001b[39m=\u001b[39m tt[\u001b[39m-\u001b[39m\u001b[39m2\u001b[39m:]\n",
      "File \u001b[0;32m/opt/homebrew/Cellar/python@3.11/3.11.6/Frameworks/Python.framework/Versions/3.11/lib/python3.11/_strptime.py:349\u001b[0m, in \u001b[0;36m_strptime\u001b[0;34m(data_string, format)\u001b[0m\n\u001b[1;32m    348\u001b[0m \u001b[39mif\u001b[39;00m \u001b[39mnot\u001b[39;00m found:\n\u001b[0;32m--> 349\u001b[0m     \u001b[39mraise\u001b[39;00m \u001b[39mValueError\u001b[39;00m(\u001b[39m\"\u001b[39m\u001b[39mtime data \u001b[39m\u001b[39m%r\u001b[39;00m\u001b[39m does not match format \u001b[39m\u001b[39m%r\u001b[39;00m\u001b[39m\"\u001b[39m \u001b[39m%\u001b[39m\n\u001b[1;32m    350\u001b[0m                      (data_string, \u001b[39mformat\u001b[39m))\n\u001b[1;32m    351\u001b[0m \u001b[39mif\u001b[39;00m \u001b[39mlen\u001b[39m(data_string) \u001b[39m!=\u001b[39m found\u001b[39m.\u001b[39mend():\n",
      "\u001b[0;31mValueError\u001b[0m: time data 'The Netscape browser was launched on December 15, 1994.\\nThe datetime string that matches the given pattern is \"1994-12-15T00:00:00.000000Z\".' does not match format '%Y-%m-%dT%H:%M:%S.%fZ'",
      "\nThe above exception was the direct cause of the following exception:\n",
      "\u001b[0;31mOutputParserException\u001b[0m                     Traceback (most recent call last)",
      "\u001b[1;32m/Users/jorgeluna/work/learning/langchain/LangChain-Course/5 - Output Parser.ipynb Cell 22\u001b[0m line \u001b[0;36m1\n\u001b[0;32m----> <a href='vscode-notebook-cell:/Users/jorgeluna/work/learning/langchain/LangChain-Course/5%20-%20Output%20Parser.ipynb#X32sZmlsZQ%3D%3D?line=0'>1</a>\u001b[0m datetime_parser\u001b[39m.\u001b[39;49mparse(reply\u001b[39m.\u001b[39;49mcontent)\n",
      "File \u001b[0;32m~/work/learning/langchain/LangChain-Course/venv-langchain-course/lib/python3.11/site-packages/langchain/output_parsers/datetime.py:47\u001b[0m, in \u001b[0;36mDatetimeOutputParser.parse\u001b[0;34m(self, response)\u001b[0m\n\u001b[1;32m     45\u001b[0m     \u001b[39mreturn\u001b[39;00m datetime\u001b[39m.\u001b[39mstrptime(response\u001b[39m.\u001b[39mstrip(), \u001b[39mself\u001b[39m\u001b[39m.\u001b[39mformat)\n\u001b[1;32m     46\u001b[0m \u001b[39mexcept\u001b[39;00m \u001b[39mValueError\u001b[39;00m \u001b[39mas\u001b[39;00m e:\n\u001b[0;32m---> 47\u001b[0m     \u001b[39mraise\u001b[39;00m OutputParserException(\n\u001b[1;32m     48\u001b[0m         \u001b[39mf\u001b[39m\u001b[39m\"\u001b[39m\u001b[39mCould not parse datetime string: \u001b[39m\u001b[39m{\u001b[39;00mresponse\u001b[39m}\u001b[39;00m\u001b[39m\"\u001b[39m\n\u001b[1;32m     49\u001b[0m     ) \u001b[39mfrom\u001b[39;00m \u001b[39me\u001b[39;00m\n",
      "\u001b[0;31mOutputParserException\u001b[0m: Could not parse datetime string: The Netscape browser was launched on December 15, 1994.\nThe datetime string that matches the given pattern is \"1994-12-15T00:00:00.000000Z\"."
     ]
    }
   ],
   "source": [
    "datetime_parser.parse(reply.content)\n"
   ]
  },
  {
   "cell_type": "code",
   "execution_count": null,
   "id": "38b378c1",
   "metadata": {},
   "outputs": [],
   "source": [
    "# pip install Pydantic\n"
   ]
  },
  {
   "cell_type": "code",
   "execution_count": null,
   "id": "ffe3ba2f",
   "metadata": {},
   "outputs": [],
   "source": [
    "from langchain.output_parsers import PydanticOutputParser\n"
   ]
  },
  {
   "cell_type": "code",
   "execution_count": null,
   "id": "9e8d50e8",
   "metadata": {},
   "outputs": [],
   "source": [
    "from pydantic import BaseModel, Field\n"
   ]
  },
  {
   "cell_type": "code",
   "execution_count": null,
   "id": "a73ff304",
   "metadata": {},
   "outputs": [],
   "source": [
    "class Playlist(BaseModel):\n",
    "    name: str = Field(description=\"Name of the playlist\")\n",
    "    songs: list = Field(description=\"A list of songs in the playlist\")\n"
   ]
  },
  {
   "cell_type": "code",
   "execution_count": null,
   "id": "b2f7b227",
   "metadata": {},
   "outputs": [],
   "source": [
    "parser = PydanticOutputParser(pydantic_object=Playlist)\n"
   ]
  },
  {
   "cell_type": "code",
   "execution_count": null,
   "id": "29729f2f",
   "metadata": {},
   "outputs": [],
   "source": [
    "print(parser.get_format_instructions())\n"
   ]
  },
  {
   "cell_type": "code",
   "execution_count": null,
   "id": "512bf24b",
   "metadata": {},
   "outputs": [],
   "source": [
    "human_text = \"{instruction}\\n{format_instructions}\"\n"
   ]
  },
  {
   "cell_type": "code",
   "execution_count": null,
   "id": "9c48d828",
   "metadata": {},
   "outputs": [],
   "source": [
    "human_prompt = HumanMessagePromptTemplate.from_template(human_text)\n"
   ]
  },
  {
   "cell_type": "code",
   "execution_count": null,
   "id": "41632579",
   "metadata": {},
   "outputs": [],
   "source": [
    "chat_prompt = ChatPromptTemplate.from_messages([human_prompt])\n"
   ]
  },
  {
   "cell_type": "code",
   "execution_count": null,
   "id": "c083834e",
   "metadata": {},
   "outputs": [],
   "source": [
    "prompt = chat_prompt.format_prompt(instruction=\"Create a playlist for disco songs\",\n",
    "format_instructions=parser.get_format_instructions()).to_messages()\n"
   ]
  },
  {
   "cell_type": "code",
   "execution_count": null,
   "id": "0a2a9302",
   "metadata": {},
   "outputs": [],
   "source": [
    "reply = llm(prompt)\n"
   ]
  },
  {
   "cell_type": "code",
   "execution_count": null,
   "id": "3367a1c5",
   "metadata": {},
   "outputs": [],
   "source": [
    "reply\n"
   ]
  },
  {
   "cell_type": "code",
   "execution_count": null,
   "id": "baa2fe11",
   "metadata": {},
   "outputs": [],
   "source": [
    "parser.parse(reply.content)\n"
   ]
  },
  {
   "cell_type": "code",
   "execution_count": null,
   "id": "0e8b28ca",
   "metadata": {},
   "outputs": [],
   "source": []
  }
 ],
 "metadata": {
  "kernelspec": {
   "display_name": "Python 3 (ipykernel)",
   "language": "python",
   "name": "python3"
  },
  "language_info": {
   "codemirror_mode": {
    "name": "ipython",
    "version": 3
   },
   "file_extension": ".py",
   "mimetype": "text/x-python",
   "name": "python",
   "nbconvert_exporter": "python",
   "pygments_lexer": "ipython3",
   "version": "3.11.6"
  }
 },
 "nbformat": 4,
 "nbformat_minor": 5
}
